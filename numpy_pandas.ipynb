{
 "cells": [
  {
   "cell_type": "code",
   "execution_count": 1,
   "metadata": {},
   "outputs": [],
   "source": [
    "import numpy as np \n",
    "import pandas as pd"
   ]
  },
  {
   "cell_type": "code",
   "execution_count": 2,
   "metadata": {},
   "outputs": [],
   "source": [
    "#1\n",
    "# A vector is an array with a single dimension \n",
    "# (there's no difference between row and column vectors), \n",
    "# while a matrix refers to an array with two dimensions.\n"
   ]
  },
  {
   "cell_type": "code",
   "execution_count": 3,
   "metadata": {},
   "outputs": [
    {
     "data": {
      "text/plain": [
       "array([ 1,  2,  3,  4,  5,  6,  7,  8,  9, 10])"
      ]
     },
     "execution_count": 3,
     "metadata": {},
     "output_type": "execute_result"
    }
   ],
   "source": [
    "#2\n",
    "a=[1,2,3,4,5,6,7,8,9,10]\n",
    "np.array(a)"
   ]
  },
  {
   "cell_type": "code",
   "execution_count": 4,
   "metadata": {},
   "outputs": [
    {
     "data": {
      "text/plain": [
       "array([[0., 0., 0., 0., 0., 0., 0., 0., 0., 0.],\n",
       "       [0., 0., 0., 0., 0., 0., 0., 0., 0., 0.],\n",
       "       [0., 0., 0., 0., 0., 0., 0., 0., 0., 0.],\n",
       "       [0., 0., 0., 0., 0., 0., 0., 0., 0., 0.],\n",
       "       [0., 0., 0., 0., 0., 0., 0., 0., 0., 0.],\n",
       "       [0., 0., 0., 0., 0., 0., 0., 0., 0., 0.],\n",
       "       [0., 0., 0., 0., 0., 0., 0., 0., 0., 0.],\n",
       "       [0., 0., 0., 0., 0., 0., 0., 0., 0., 0.],\n",
       "       [0., 0., 0., 0., 0., 0., 0., 0., 0., 0.],\n",
       "       [0., 0., 0., 0., 0., 0., 0., 0., 0., 0.]])"
      ]
     },
     "execution_count": 4,
     "metadata": {},
     "output_type": "execute_result"
    }
   ],
   "source": [
    "#3\n",
    "np.zeros((10,10))"
   ]
  },
  {
   "cell_type": "code",
   "execution_count": 5,
   "metadata": {},
   "outputs": [
    {
     "data": {
      "text/plain": [
       "array([[1., 1., 1., 1., 1., 1., 1., 1., 1., 1.],\n",
       "       [1., 1., 1., 1., 1., 1., 1., 1., 1., 1.],\n",
       "       [1., 1., 1., 1., 1., 1., 1., 1., 1., 1.],\n",
       "       [1., 1., 1., 1., 1., 1., 1., 1., 1., 1.],\n",
       "       [1., 1., 1., 1., 1., 1., 1., 1., 1., 1.],\n",
       "       [1., 1., 1., 1., 1., 1., 1., 1., 1., 1.],\n",
       "       [1., 1., 1., 1., 1., 1., 1., 1., 1., 1.],\n",
       "       [1., 1., 1., 1., 1., 1., 1., 1., 1., 1.],\n",
       "       [1., 1., 1., 1., 1., 1., 1., 1., 1., 1.],\n",
       "       [1., 1., 1., 1., 1., 1., 1., 1., 1., 1.]])"
      ]
     },
     "execution_count": 5,
     "metadata": {},
     "output_type": "execute_result"
    }
   ],
   "source": [
    "#4\n",
    "\n",
    "np.ones((10,10)) "
   ]
  },
  {
   "cell_type": "code",
   "execution_count": 6,
   "metadata": {},
   "outputs": [
    {
     "data": {
      "text/plain": [
       "array([[9, 9, 9, 9, 9, 9, 9, 9, 9, 9],\n",
       "       [9, 9, 9, 9, 9, 9, 9, 9, 9, 9],\n",
       "       [9, 9, 9, 9, 9, 9, 9, 9, 9, 9],\n",
       "       [9, 9, 9, 9, 9, 9, 9, 9, 9, 9],\n",
       "       [9, 9, 9, 9, 9, 9, 9, 9, 9, 9],\n",
       "       [9, 9, 9, 9, 9, 9, 9, 9, 9, 9],\n",
       "       [9, 9, 9, 9, 9, 9, 9, 9, 9, 9],\n",
       "       [9, 9, 9, 9, 9, 9, 9, 9, 9, 9],\n",
       "       [9, 9, 9, 9, 9, 9, 9, 9, 9, 9],\n",
       "       [9, 9, 9, 9, 9, 9, 9, 9, 9, 9]])"
      ]
     },
     "execution_count": 6,
     "metadata": {},
     "output_type": "execute_result"
    }
   ],
   "source": [
    "#5\n",
    "np.full((10,10),9)   #"
   ]
  },
  {
   "cell_type": "code",
   "execution_count": 7,
   "metadata": {},
   "outputs": [
    {
     "data": {
      "text/plain": [
       "array([ 5,  8, 11, 14, 17, 20, 23])"
      ]
     },
     "execution_count": 7,
     "metadata": {},
     "output_type": "execute_result"
    }
   ],
   "source": [
    "#6\n",
    "np.arange(5,25,3)"
   ]
  },
  {
   "cell_type": "code",
   "execution_count": 8,
   "metadata": {},
   "outputs": [
    {
     "data": {
      "text/plain": [
       "array([-1.        , -0.93103448, -0.86206897, -0.79310345, -0.72413793,\n",
       "       -0.65517241, -0.5862069 , -0.51724138, -0.44827586, -0.37931034,\n",
       "       -0.31034483, -0.24137931, -0.17241379, -0.10344828, -0.03448276,\n",
       "        0.03448276,  0.10344828,  0.17241379,  0.24137931,  0.31034483,\n",
       "        0.37931034,  0.44827586,  0.51724138,  0.5862069 ,  0.65517241,\n",
       "        0.72413793,  0.79310345,  0.86206897,  0.93103448,  1.        ])"
      ]
     },
     "execution_count": 8,
     "metadata": {},
     "output_type": "execute_result"
    }
   ],
   "source": [
    "#7\n",
    "np.linspace(-1,1,30)   "
   ]
  },
  {
   "cell_type": "code",
   "execution_count": 9,
   "metadata": {},
   "outputs": [
    {
     "data": {
      "text/plain": [
       "array([[19, 18, 18, 26, 26, 29],\n",
       "       [10, 13, 25, 15, 26, 16],\n",
       "       [15,  4,  3,  3, 25, 29],\n",
       "       [11, 16,  6, 19, 12, 17],\n",
       "       [12,  1, 11,  8, 25, 17]])"
      ]
     },
     "execution_count": 9,
     "metadata": {},
     "output_type": "execute_result"
    }
   ],
   "source": [
    "#8\n",
    "np.random.randint(0,30,size=(5,6)) "
   ]
  },
  {
   "cell_type": "code",
   "execution_count": 10,
   "metadata": {},
   "outputs": [
    {
     "data": {
      "text/plain": [
       "array([[1., 0., 0., 0., 0., 0., 0., 0., 0., 0.],\n",
       "       [0., 1., 0., 0., 0., 0., 0., 0., 0., 0.],\n",
       "       [0., 0., 1., 0., 0., 0., 0., 0., 0., 0.],\n",
       "       [0., 0., 0., 1., 0., 0., 0., 0., 0., 0.],\n",
       "       [0., 0., 0., 0., 1., 0., 0., 0., 0., 0.],\n",
       "       [0., 0., 0., 0., 0., 1., 0., 0., 0., 0.],\n",
       "       [0., 0., 0., 0., 0., 0., 1., 0., 0., 0.],\n",
       "       [0., 0., 0., 0., 0., 0., 0., 1., 0., 0.],\n",
       "       [0., 0., 0., 0., 0., 0., 0., 0., 1., 0.],\n",
       "       [0., 0., 0., 0., 0., 0., 0., 0., 0., 1.]])"
      ]
     },
     "execution_count": 10,
     "metadata": {},
     "output_type": "execute_result"
    }
   ],
   "source": [
    "#9\n",
    "np.eye(10)  #k=1 ,scalar matrix"
   ]
  },
  {
   "cell_type": "code",
   "execution_count": 11,
   "metadata": {},
   "outputs": [
    {
     "name": "stdout",
     "output_type": "stream",
     "text": [
      "[[3 1 2 8 1 3 6 1 8 3]\n",
      " [1 9 4 5 2 3 4 5 8 9]\n",
      " [3 6 3 2 2 1 4 3 9 3]\n",
      " [5 3 8 4 5 2 0 7 9 5]\n",
      " [6 9 9 4 4 9 7 1 7 9]]\n",
      "Number of elements =   50\n",
      "Dimension=  2\n",
      "Rows,columns=  (5, 10)\n",
      "Data Type int32\n"
     ]
    }
   ],
   "source": [
    "#10\n",
    "definition=np.random.randint(0,10,size=(5,10))\n",
    "print(definition)\n",
    "print(\"Number of elements =  \",definition.size)\n",
    "print(\"Dimension= \",definition.ndim) \n",
    "print(\"Rows,columns= \",definition.shape)\n",
    "print(\"Data Type\",definition.dtype)"
   ]
  },
  {
   "cell_type": "code",
   "execution_count": 12,
   "metadata": {},
   "outputs": [
    {
     "data": {
      "text/plain": [
       "array([[[2, 6, 8, 0, 4, 1, 3],\n",
       "        [0, 3, 0, 7, 1, 0, 6],\n",
       "        [2, 8, 8, 3, 1, 1, 0],\n",
       "        [7, 9, 4, 4, 8, 2, 8]],\n",
       "\n",
       "       [[1, 9, 8, 0, 1, 1, 6],\n",
       "        [7, 5, 6, 5, 1, 9, 8],\n",
       "        [2, 5, 0, 4, 7, 8, 2],\n",
       "        [6, 0, 3, 6, 4, 6, 3]],\n",
       "\n",
       "       [[6, 6, 7, 3, 9, 2, 0],\n",
       "        [2, 2, 5, 1, 4, 8, 5],\n",
       "        [5, 1, 5, 0, 0, 5, 8],\n",
       "        [6, 2, 5, 1, 4, 6, 6]]])"
      ]
     },
     "execution_count": 12,
     "metadata": {},
     "output_type": "execute_result"
    }
   ],
   "source": [
    "#11\n",
    "np.random.randint(10, size = (3,4,7))"
   ]
  },
  {
   "cell_type": "code",
   "execution_count": 13,
   "metadata": {},
   "outputs": [
    {
     "data": {
      "text/plain": [
       "array([[1, 2, 3],\n",
       "       [4, 5, 6],\n",
       "       [7, 8, 9]])"
      ]
     },
     "execution_count": 13,
     "metadata": {},
     "output_type": "execute_result"
    }
   ],
   "source": [
    "#12\n",
    "a=np.arange(1,10)\n",
    "a.reshape(3,3)"
   ]
  },
  {
   "cell_type": "code",
   "execution_count": 14,
   "metadata": {},
   "outputs": [
    {
     "data": {
      "text/plain": [
       "array([1, 2, 3, 4, 5, 6, 7, 8, 9, 0, 0, 0])"
      ]
     },
     "execution_count": 14,
     "metadata": {},
     "output_type": "execute_result"
    }
   ],
   "source": [
    "#13\n",
    "u=[1,2,3]  \n",
    "y=[4,5,6]\n",
    "x=[7,8,9]\n",
    "t=[0,0,0]\n",
    "\n",
    "np.concatenate([u,y,x,t]) #lists also can be converted in arrays directly"
   ]
  },
  {
   "cell_type": "code",
   "execution_count": 15,
   "metadata": {},
   "outputs": [
    {
     "data": {
      "text/plain": [
       "array([[0, 2, 3],\n",
       "       [1, 4, 5]])"
      ]
     },
     "execution_count": 15,
     "metadata": {},
     "output_type": "execute_result"
    }
   ],
   "source": [
    "#14\n",
    "e=np.array([[0],\n",
    "            [1]])\n",
    "r=np.array([[2,3],\n",
    "            [4,5]])\n",
    "np.concatenate([e,r], axis = 1)"
   ]
  },
  {
   "cell_type": "code",
   "execution_count": 16,
   "metadata": {},
   "outputs": [],
   "source": [
    "#15\n",
    "# axis=1  -->adds along x-axis   ,horizontally\n",
    "# axis=0 -->adds along y-axis   ,vertically"
   ]
  },
  {
   "cell_type": "code",
   "execution_count": 17,
   "metadata": {},
   "outputs": [
    {
     "name": "stdout",
     "output_type": "stream",
     "text": [
      "[[0 1]\n",
      " [2 3]\n",
      " [4 5]]\n",
      "-----\n",
      "[[2 3 6]\n",
      " [4 5 7]]\n"
     ]
    }
   ],
   "source": [
    "#16\n",
    "t=np.array([0,1])\n",
    "y=np.array([[2,3],\n",
    "           [4,5]])\n",
    "i=np.array([[6],\n",
    "            [7]])\n",
    "print(np.vstack([t,y]))\n",
    "print(\"-----\")\n",
    "print(np.hstack([y,i]))"
   ]
  },
  {
   "cell_type": "code",
   "execution_count": 18,
   "metadata": {},
   "outputs": [
    {
     "data": {
      "text/plain": [
       "[array([1, 2]), array([3, 4]), array([5, 6]), array([ 7,  8,  9, 10])]"
      ]
     },
     "execution_count": 18,
     "metadata": {},
     "output_type": "execute_result"
    }
   ],
   "source": [
    "#17\n",
    "ex=np.arange(1,11,1)\n",
    "np.split(ex,[2,4,6])"
   ]
  },
  {
   "cell_type": "code",
   "execution_count": 19,
   "metadata": {},
   "outputs": [
    {
     "name": "stdout",
     "output_type": "stream",
     "text": [
      "[ 2 16 18 28 49]\n"
     ]
    },
    {
     "data": {
      "text/plain": [
       "(2, 16)"
      ]
     },
     "execution_count": 19,
     "metadata": {},
     "output_type": "execute_result"
    }
   ],
   "source": [
    "#18\n",
    "randex=np.random.randint(0,50,5)\n",
    "print(np.sort(randex))\n",
    "\n",
    "randex[-1],randex[3]\n"
   ]
  },
  {
   "cell_type": "code",
   "execution_count": 20,
   "metadata": {},
   "outputs": [
    {
     "name": "stdout",
     "output_type": "stream",
     "text": [
      "[ 4 19 15 13  0  7  7  4 19 15 19 12 18 14 18 18 10  7 14 19]\n"
     ]
    },
    {
     "data": {
      "text/plain": [
       "(13, 7, 4)"
      ]
     },
     "execution_count": 20,
     "metadata": {},
     "output_type": "execute_result"
    }
   ],
   "source": [
    "#19\n",
    "r_ex=np.random.randint(20,size=20)\n",
    "print(r_ex)\n",
    "r_ex[3],r_ex[5],r_ex[7]\n"
   ]
  },
  {
   "cell_type": "code",
   "execution_count": 21,
   "metadata": {},
   "outputs": [
    {
     "name": "stdout",
     "output_type": "stream",
     "text": [
      "[ 4 19  9  3 14 13  6  2 14 10]\n",
      "[ 4 19  9  3  2 13  6  2 14 10]\n"
     ]
    }
   ],
   "source": [
    "#20\n",
    "r_ex=np.random.randint(20,size=10)\n",
    "print(r_ex)\n",
    "r_ex[4]=2\n",
    "print(r_ex)\n"
   ]
  },
  {
   "cell_type": "code",
   "execution_count": 22,
   "metadata": {},
   "outputs": [],
   "source": [
    "#21\n",
    "#Diagonal matrix= a square matrix, where all non-diagonal elements are zeros\n",
    "#Trace matrix=sum of all diagonal elements of the matrix"
   ]
  },
  {
   "cell_type": "code",
   "execution_count": 23,
   "metadata": {},
   "outputs": [
    {
     "name": "stdout",
     "output_type": "stream",
     "text": [
      "0,1,2,3,4,"
     ]
    }
   ],
   "source": [
    "#22\n",
    "diag=np.diag([0,1,2,3,4])\n",
    "diag\n",
    "\n",
    "for  i in range(5):\n",
    "    for j in range(5):\n",
    "        if i==j :\n",
    "             print(diag[i,j],end=\",\")\n",
    "\n"
   ]
  },
  {
   "cell_type": "code",
   "execution_count": 24,
   "metadata": {},
   "outputs": [
    {
     "name": "stdout",
     "output_type": "stream",
     "text": [
      "[19 19 18 16 12 13 12 18 15 10]\n"
     ]
    },
    {
     "data": {
      "text/plain": [
       "array([18, 16, 12, 13, 12, 18, 15, 10])"
      ]
     },
     "execution_count": 24,
     "metadata": {},
     "output_type": "execute_result"
    }
   ],
   "source": [
    "#23\n",
    "g=np.random.randint(10,21,10)\n",
    "print(g)\n",
    "g[2:]"
   ]
  },
  {
   "cell_type": "code",
   "execution_count": 25,
   "metadata": {},
   "outputs": [
    {
     "data": {
      "text/plain": [
       "array([[6, 7, 9, 1, 7, 5, 7, 2, 4, 6],\n",
       "       [6, 3, 2, 5, 8, 6, 9, 4, 4, 4],\n",
       "       [7, 1, 1, 6, 2, 6, 0, 9, 2, 3],\n",
       "       [1, 8, 4, 5, 5, 2, 1, 7, 5, 2],\n",
       "       [2, 7, 2, 2, 8, 9, 8, 2, 9, 4],\n",
       "       [0, 0, 6, 9, 9, 4, 1, 2, 9, 3],\n",
       "       [1, 0, 0, 0, 4, 1, 3, 3, 4, 8],\n",
       "       [1, 2, 7, 0, 9, 6, 0, 3, 2, 2],\n",
       "       [0, 9, 2, 5, 5, 2, 8, 6, 4, 1],\n",
       "       [1, 3, 8, 4, 9, 5, 8, 6, 2, 5]])"
      ]
     },
     "execution_count": 25,
     "metadata": {},
     "output_type": "execute_result"
    }
   ],
   "source": [
    "h=np.random.randint(0,10,(10,10))\n",
    "h\n"
   ]
  },
  {
   "cell_type": "code",
   "execution_count": 26,
   "metadata": {},
   "outputs": [
    {
     "data": {
      "text/plain": [
       "2"
      ]
     },
     "execution_count": 26,
     "metadata": {},
     "output_type": "execute_result"
    }
   ],
   "source": [
    "h[2,4]"
   ]
  },
  {
   "cell_type": "code",
   "execution_count": 27,
   "metadata": {},
   "outputs": [
    {
     "data": {
      "text/plain": [
       "array([7, 8, 2, 5, 8, 9, 4, 9, 5, 9])"
      ]
     },
     "execution_count": 27,
     "metadata": {},
     "output_type": "execute_result"
    }
   ],
   "source": [
    "#a\n",
    "h[:,4]"
   ]
  },
  {
   "cell_type": "code",
   "execution_count": 28,
   "metadata": {},
   "outputs": [
    {
     "data": {
      "text/plain": [
       "array([6, 3, 2, 5, 8, 6, 9, 4, 4, 4])"
      ]
     },
     "execution_count": 28,
     "metadata": {},
     "output_type": "execute_result"
    }
   ],
   "source": [
    "#b\n",
    "h[1,:]"
   ]
  },
  {
   "cell_type": "code",
   "execution_count": 29,
   "metadata": {},
   "outputs": [
    {
     "data": {
      "text/plain": [
       "array([[7, 1, 1, 6, 2, 6, 0, 9, 2, 3],\n",
       "       [1, 8, 4, 5, 5, 2, 1, 7, 5, 2],\n",
       "       [2, 7, 2, 2, 8, 9, 8, 2, 9, 4],\n",
       "       [0, 0, 6, 9, 9, 4, 1, 2, 9, 3],\n",
       "       [1, 0, 0, 0, 4, 1, 3, 3, 4, 8],\n",
       "       [1, 2, 7, 0, 9, 6, 0, 3, 2, 2]])"
      ]
     },
     "execution_count": 29,
     "metadata": {},
     "output_type": "execute_result"
    }
   ],
   "source": [
    "#c\n",
    "h[2:8,:]"
   ]
  },
  {
   "cell_type": "code",
   "execution_count": 30,
   "metadata": {},
   "outputs": [
    {
     "data": {
      "text/plain": [
       "array([[6, 2, 6, 0, 9],\n",
       "       [5, 5, 2, 1, 7],\n",
       "       [2, 8, 9, 8, 2],\n",
       "       [9, 9, 4, 1, 2]])"
      ]
     },
     "execution_count": 30,
     "metadata": {},
     "output_type": "execute_result"
    }
   ],
   "source": [
    "#d\n",
    "h[2:6,3:8]"
   ]
  },
  {
   "cell_type": "code",
   "execution_count": 31,
   "metadata": {},
   "outputs": [
    {
     "data": {
      "text/plain": [
       "array([[0, 0, 6, 9, 9],\n",
       "       [1, 0, 0, 0, 4],\n",
       "       [1, 2, 7, 0, 9],\n",
       "       [0, 9, 2, 5, 5],\n",
       "       [1, 3, 8, 4, 9]])"
      ]
     },
     "execution_count": 31,
     "metadata": {},
     "output_type": "execute_result"
    }
   ],
   "source": [
    "#e\n",
    "h[5:,:5]"
   ]
  },
  {
   "cell_type": "code",
   "execution_count": 32,
   "metadata": {},
   "outputs": [
    {
     "data": {
      "text/plain": [
       "array([[1, 7, 6],\n",
       "       [5, 9, 4],\n",
       "       [6, 0, 3],\n",
       "       [5, 1, 2],\n",
       "       [2, 8, 4],\n",
       "       [9, 1, 3],\n",
       "       [0, 3, 8],\n",
       "       [0, 0, 2],\n",
       "       [5, 8, 1],\n",
       "       [4, 8, 5]])"
      ]
     },
     "execution_count": 32,
     "metadata": {},
     "output_type": "execute_result"
    }
   ],
   "source": [
    "#f\n",
    "h[:,(3,6,9)]"
   ]
  },
  {
   "cell_type": "code",
   "execution_count": 33,
   "metadata": {},
   "outputs": [],
   "source": [
    "#g\n",
    "h[5,5]=2000\n"
   ]
  },
  {
   "cell_type": "code",
   "execution_count": 34,
   "metadata": {},
   "outputs": [
    {
     "data": {
      "text/plain": [
       "array([ 0,  5, 10, 15, 20, 25, 30, 35, 40, 45])"
      ]
     },
     "execution_count": 34,
     "metadata": {},
     "output_type": "execute_result"
    }
   ],
   "source": [
    "#25\n",
    "j=np.arange(0,50,5)\n",
    "j"
   ]
  },
  {
   "cell_type": "code",
   "execution_count": 35,
   "metadata": {},
   "outputs": [
    {
     "data": {
      "text/plain": [
       "array([False, False, False, False, False,  True,  True,  True,  True,\n",
       "        True])"
      ]
     },
     "execution_count": 35,
     "metadata": {},
     "output_type": "execute_result"
    }
   ],
   "source": [
    "#a\n",
    "j>20\n"
   ]
  },
  {
   "cell_type": "code",
   "execution_count": 36,
   "metadata": {},
   "outputs": [
    {
     "data": {
      "text/plain": [
       "array([ True,  True,  True,  True,  True,  True, False, False, False,\n",
       "       False])"
      ]
     },
     "execution_count": 36,
     "metadata": {},
     "output_type": "execute_result"
    }
   ],
   "source": [
    "#b\n",
    "\n",
    "j<30"
   ]
  },
  {
   "cell_type": "code",
   "execution_count": 37,
   "metadata": {},
   "outputs": [
    {
     "data": {
      "text/plain": [
       "array([False, False, False, False, False, False, False, False, False,\n",
       "       False])"
      ]
     },
     "execution_count": 37,
     "metadata": {},
     "output_type": "execute_result"
    }
   ],
   "source": [
    "#c\n",
    "j==33"
   ]
  },
  {
   "cell_type": "code",
   "execution_count": 38,
   "metadata": {},
   "outputs": [
    {
     "data": {
      "text/plain": [
       "array([0, 1, 0, 1, 0, 1, 0, 1, 0, 1], dtype=int32)"
      ]
     },
     "execution_count": 38,
     "metadata": {},
     "output_type": "execute_result"
    }
   ],
   "source": [
    "#e\n",
    "j%2\n"
   ]
  },
  {
   "cell_type": "code",
   "execution_count": 39,
   "metadata": {},
   "outputs": [
    {
     "data": {
      "text/plain": [
       "array([0.        , 0.02040816, 0.04081633, 0.06122449, 0.08163265,\n",
       "       0.10204082, 0.12244898, 0.14285714, 0.16326531, 0.18367347,\n",
       "       0.20408163, 0.2244898 , 0.24489796, 0.26530612, 0.28571429,\n",
       "       0.30612245, 0.32653061, 0.34693878, 0.36734694, 0.3877551 ,\n",
       "       0.40816327, 0.42857143, 0.44897959, 0.46938776, 0.48979592,\n",
       "       0.51020408, 0.53061224, 0.55102041, 0.57142857, 0.59183673,\n",
       "       0.6122449 , 0.63265306, 0.65306122, 0.67346939, 0.69387755,\n",
       "       0.71428571, 0.73469388, 0.75510204, 0.7755102 , 0.79591837,\n",
       "       0.81632653, 0.83673469, 0.85714286, 0.87755102, 0.89795918,\n",
       "       0.91836735, 0.93877551, 0.95918367, 0.97959184, 1.        ])"
      ]
     },
     "execution_count": 39,
     "metadata": {},
     "output_type": "execute_result"
    }
   ],
   "source": [
    "q26=np.linspace(0,1,50) \n",
    "q26"
   ]
  },
  {
   "cell_type": "code",
   "execution_count": 40,
   "metadata": {},
   "outputs": [
    {
     "data": {
      "text/plain": [
       "0.2945075446869757"
      ]
     },
     "execution_count": 40,
     "metadata": {},
     "output_type": "execute_result"
    }
   ],
   "source": [
    "#a\n",
    "np.std(q26)"
   ]
  },
  {
   "cell_type": "code",
   "execution_count": 41,
   "metadata": {},
   "outputs": [
    {
     "data": {
      "text/plain": [
       "0.086734693877551"
      ]
     },
     "execution_count": 41,
     "metadata": {},
     "output_type": "execute_result"
    }
   ],
   "source": [
    "#b\n",
    "np.var(q26)"
   ]
  },
  {
   "cell_type": "code",
   "execution_count": 42,
   "metadata": {},
   "outputs": [
    {
     "data": {
      "text/plain": [
       "0.5"
      ]
     },
     "execution_count": 42,
     "metadata": {},
     "output_type": "execute_result"
    }
   ],
   "source": [
    "#c\n",
    "np.median(q26)"
   ]
  },
  {
   "cell_type": "code",
   "execution_count": 43,
   "metadata": {},
   "outputs": [
    {
     "data": {
      "text/plain": [
       "0.0"
      ]
     },
     "execution_count": 43,
     "metadata": {},
     "output_type": "execute_result"
    }
   ],
   "source": [
    "#d\n",
    "np.min(q26)"
   ]
  },
  {
   "cell_type": "code",
   "execution_count": 44,
   "metadata": {},
   "outputs": [
    {
     "data": {
      "text/plain": [
       "1.0"
      ]
     },
     "execution_count": 44,
     "metadata": {},
     "output_type": "execute_result"
    }
   ],
   "source": [
    "#e\n",
    "np.max(q26)"
   ]
  },
  {
   "cell_type": "code",
   "execution_count": 45,
   "metadata": {},
   "outputs": [],
   "source": [
    "#27\n",
    "#Pandas Series is much more general and flexible than the one-dimensional NumPy array.\n",
    "#Pandas series can hold data type as it assigned(int,float,object etc.),\n",
    "#numpy arrays can hold only one type data at once(all elements must be same type)\n"
   ]
  },
  {
   "cell_type": "code",
   "execution_count": 46,
   "metadata": {},
   "outputs": [
    {
     "data": {
      "text/plain": [
       "A                      0\n",
       "B                     hi\n",
       "C                    1.8\n",
       "D    [3, [2, 3], carrot]\n",
       "E                   True\n",
       "dtype: object"
      ]
     },
     "execution_count": 46,
     "metadata": {},
     "output_type": "execute_result"
    }
   ],
   "source": [
    "#28\n",
    "seri=pd.Series([0,\"hi\",1.8,[3,[2,3],\"carrot\"],True],index=(\"A\",\"B\",\"C\",\"D\",\"E\"))\n",
    "seri"
   ]
  },
  {
   "cell_type": "code",
   "execution_count": 47,
   "metadata": {},
   "outputs": [
    {
     "data": {
      "text/plain": [
       "France              Paris\n",
       "England            London\n",
       "Italy                Rome\n",
       "Denmark        Copenhagen\n",
       "Netherlands     Amsterdam\n",
       "dtype: object"
      ]
     },
     "execution_count": 47,
     "metadata": {},
     "output_type": "execute_result"
    }
   ],
   "source": [
    "#29\n",
    "dic={\"France\":\"Paris\",\"England\":\"London\",\"Italy\":\"Rome\",\"Denmark\":\"Copenhagen\",\"Netherlands\":\"Amsterdam\"}\n",
    "series_dic=pd.Series(dic)\n",
    "series_dic\n"
   ]
  },
  {
   "cell_type": "code",
   "execution_count": 48,
   "metadata": {},
   "outputs": [
    {
     "data": {
      "text/plain": [
       "array([35, 17, 16, 35,  4, 16, 22, 30,  9, 17])"
      ]
     },
     "execution_count": 48,
     "metadata": {},
     "output_type": "execute_result"
    }
   ],
   "source": [
    "#30\n",
    "v=np.random.randint(1,50,10)\n",
    "v"
   ]
  },
  {
   "cell_type": "code",
   "execution_count": 49,
   "metadata": {},
   "outputs": [
    {
     "data": {
      "text/plain": [
       "a    35\n",
       "b    17\n",
       "c    16\n",
       "d    35\n",
       "e     4\n",
       "f    16\n",
       "g    22\n",
       "h    30\n",
       "i     9\n",
       "j    17\n",
       "dtype: int32"
      ]
     },
     "execution_count": 49,
     "metadata": {},
     "output_type": "execute_result"
    }
   ],
   "source": [
    "#30-1\n",
    "f=pd.Series(v,index=(\"a\",\"b\",\"c\",\"d\",\"e\",\"f\",\"g\",\"h\",\"i\",\"j\"))\n",
    "f\n"
   ]
  },
  {
   "cell_type": "code",
   "execution_count": 50,
   "metadata": {},
   "outputs": [
    {
     "data": {
      "text/plain": [
       "(16, 35)"
      ]
     },
     "execution_count": 50,
     "metadata": {},
     "output_type": "execute_result"
    }
   ],
   "source": [
    "#30-2,3\n",
    "f[\"c\"],f[\"a\"]"
   ]
  },
  {
   "cell_type": "code",
   "execution_count": 51,
   "metadata": {},
   "outputs": [
    {
     "data": {
      "text/plain": [
       "(17, 22)"
      ]
     },
     "execution_count": 51,
     "metadata": {},
     "output_type": "execute_result"
    }
   ],
   "source": [
    "#30-4\n",
    "f[\"b\"],f[\"g\"]"
   ]
  },
  {
   "cell_type": "code",
   "execution_count": 52,
   "metadata": {},
   "outputs": [
    {
     "data": {
      "text/plain": [
       "b    17\n",
       "c    16\n",
       "d    35\n",
       "e     4\n",
       "f    16\n",
       "g    22\n",
       "dtype: int32"
      ]
     },
     "execution_count": 52,
     "metadata": {},
     "output_type": "execute_result"
    }
   ],
   "source": [
    "#30-5\n",
    "f[\"b\":\"g\"]\n"
   ]
  },
  {
   "cell_type": "code",
   "execution_count": 53,
   "metadata": {},
   "outputs": [
    {
     "data": {
      "text/plain": [
       "e     4\n",
       "f    16\n",
       "g    22\n",
       "h    30\n",
       "i     9\n",
       "j    17\n",
       "dtype: int32"
      ]
     },
     "execution_count": 53,
     "metadata": {},
     "output_type": "execute_result"
    }
   ],
   "source": [
    "f[\"e\":]"
   ]
  },
  {
   "cell_type": "code",
   "execution_count": 54,
   "metadata": {},
   "outputs": [
    {
     "data": {
      "text/plain": [
       "0    {'France': 'Paris'}\n",
       "1                     22\n",
       "2                jupyter\n",
       "3                    4.2\n",
       "4                   True\n",
       "dtype: object"
      ]
     },
     "execution_count": 54,
     "metadata": {},
     "output_type": "execute_result"
    }
   ],
   "source": [
    "#31\n",
    "z=pd.Series([{\"France\":\"Paris\"},22,\"jupyter\",4.2,True])\n",
    "z"
   ]
  },
  {
   "cell_type": "code",
   "execution_count": 55,
   "metadata": {},
   "outputs": [
    {
     "data": {
      "text/plain": [
       "0                             3\n",
       "1                            hi\n",
       "2    {4: {'England': 'London'}}\n",
       "3                            23\n",
       "4                           1.3\n",
       "dtype: object"
      ]
     },
     "execution_count": 55,
     "metadata": {},
     "output_type": "execute_result"
    }
   ],
   "source": [
    "p=pd.Series([3,\"hi\",{4:{\"England\":\"London\"}},23,1.3])\n",
    "p"
   ]
  },
  {
   "cell_type": "code",
   "execution_count": 56,
   "metadata": {},
   "outputs": [
    {
     "data": {
      "text/plain": [
       "0                             3\n",
       "1                            hi\n",
       "2    {4: {'England': 'London'}}\n",
       "3                            23\n",
       "4                           1.3\n",
       "0           {'France': 'Paris'}\n",
       "1                            22\n",
       "2                       jupyter\n",
       "3                           4.2\n",
       "4                          True\n",
       "dtype: object"
      ]
     },
     "execution_count": 56,
     "metadata": {},
     "output_type": "execute_result"
    }
   ],
   "source": [
    "#31-1\n",
    "\n",
    "uni_s=pd.concat([p,z])\n",
    "uni_s\n"
   ]
  },
  {
   "cell_type": "code",
   "execution_count": 57,
   "metadata": {},
   "outputs": [
    {
     "data": {
      "text/plain": [
       "1                              3\n",
       "2                             hi\n",
       "3     {4: {'England': 'London'}}\n",
       "4                             23\n",
       "5                            1.3\n",
       "6            {'France': 'Paris'}\n",
       "7                             22\n",
       "8                        jupyter\n",
       "9                            4.2\n",
       "10                          True\n",
       "dtype: object"
      ]
     },
     "execution_count": 57,
     "metadata": {},
     "output_type": "execute_result"
    }
   ],
   "source": [
    "#31-2\n",
    "uni_s.index = np.arange(1, len(uni_s) + 1)\n",
    "index_uni_s=uni_s\n",
    "index_uni_s\n"
   ]
  },
  {
   "cell_type": "code",
   "execution_count": 58,
   "metadata": {},
   "outputs": [
    {
     "data": {
      "text/plain": [
       "(4                     23\n",
       " 5                    1.3\n",
       " 6    {'France': 'Paris'}\n",
       " dtype: object,\n",
       " 4                     23\n",
       " 5                    1.3\n",
       " 6    {'France': 'Paris'}\n",
       " dtype: object)"
      ]
     },
     "execution_count": 58,
     "metadata": {},
     "output_type": "execute_result"
    }
   ],
   "source": [
    "#31-3\n",
    "index_uni_s.iloc[[3,4,5]],index_uni_s.loc[[4,5,6]]\n",
    "\n"
   ]
  },
  {
   "cell_type": "code",
   "execution_count": 59,
   "metadata": {},
   "outputs": [
    {
     "name": "stdout",
     "output_type": "stream",
     "text": [
      "\n",
      "Substraction result\n",
      "[[ 0.07340931  0.01378633  0.51955392 -0.95056128  0.22811718 -0.03612637]\n",
      " [ 0.28628664  0.03894138  0.49624644  0.16404118  0.05571306  0.09889044]\n",
      " [ 0.18133441  0.52391004 -0.05325784 -0.01840947 -0.091181   -0.13947664]\n",
      " [-0.05909216  0.15230133 -0.04825791  0.07753869  0.07996067 -0.6549745 ]\n",
      " [-0.77468859 -0.60860718  0.06076176  0.38067711 -0.0814687  -0.78072158]\n",
      " [ 0.57895545  0.40278472  0.8137513   0.31045625 -0.78706301  0.07775661]]\n",
      "Diagonal\n",
      "[ 0.07340931  0.03894138 -0.05325784  0.07753869 -0.0814687   0.07775661]\n",
      "\n",
      "Duration : 2.6371588706970215 secs\n",
      "Turn counter : 71436  \n"
     ]
    }
   ],
   "source": [
    "#MASTER\n",
    "import numpy as np\n",
    "import time\n",
    "counter=0\n",
    "timer=time.time()\n",
    "while True:\n",
    "    counter+=1\n",
    "    mat_1=np.random.random((6,6))\n",
    "    mat_2=np.random.random((6,6))\n",
    "    sub_mat=mat_1-mat_2\n",
    "    diagonal=np.diag(sub_mat)\n",
    "    checker=np.all((-0.1<diagonal)&(diagonal< 0.1))\n",
    "    if checker==True:\n",
    "        print(f\"\"\"\n",
    "Substraction result\n",
    "{sub_mat}\n",
    "Diagonal\n",
    "{diagonal}\"\"\")\n",
    "        print(f\"\"\"\n",
    "Duration : {time.time()-timer} secs\n",
    "Turn counter : {counter}  \"\"\")\n",
    "        break"
   ]
  }
 ],
 "metadata": {
  "interpreter": {
   "hash": "a7c57e29fc30f238a0650d1bab448c72685587957dbb14a8711175a94a2f4d9d"
  },
  "kernelspec": {
   "display_name": "Python 3.9.7 64-bit",
   "language": "python",
   "name": "python3"
  },
  "language_info": {
   "codemirror_mode": {
    "name": "ipython",
    "version": 3
   },
   "file_extension": ".py",
   "mimetype": "text/x-python",
   "name": "python",
   "nbconvert_exporter": "python",
   "pygments_lexer": "ipython3",
   "version": "3.9.7"
  },
  "orig_nbformat": 4
 },
 "nbformat": 4,
 "nbformat_minor": 2
}
