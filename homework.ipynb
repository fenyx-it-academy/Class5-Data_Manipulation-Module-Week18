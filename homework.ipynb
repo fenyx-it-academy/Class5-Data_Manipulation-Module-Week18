{
 "cells": [
  {
   "cell_type": "markdown",
   "metadata": {},
   "source": [
    "### 1. Numpy’da Vektor ve Matrisin farkini tek cumle ile ifade ediniz."
   ]
  },
  {
   "cell_type": "markdown",
   "metadata": {},
   "source": [
    "* Tek boyutlu Numpy arraylerine vektor, cok boyutlu Numpy arraylerine matris denir."
   ]
  },
  {
   "cell_type": "markdown",
   "metadata": {},
   "source": [
    "### 2. 10 elemanli bir listeden NumPy Array’i olusturunuz."
   ]
  },
  {
   "cell_type": "code",
   "execution_count": 1,
   "metadata": {},
   "outputs": [
    {
     "data": {
      "text/plain": [
       "array([0, 1, 2, 3, 4, 5, 6, 7, 8, 9])"
      ]
     },
     "execution_count": 1,
     "metadata": {},
     "output_type": "execute_result"
    }
   ],
   "source": [
    "import numpy as np\n",
    "a = [i for i in range(10)]\n",
    "a = np.array(a)\n",
    "a"
   ]
  },
  {
   "cell_type": "markdown",
   "metadata": {},
   "source": [
    "### 3. Icerisinde ‘0’ lar olan, ve veri tipi integer olan 10X10’luk bir matris olusturunuz."
   ]
  },
  {
   "cell_type": "code",
   "execution_count": 2,
   "metadata": {},
   "outputs": [
    {
     "data": {
      "text/plain": [
       "array([[0, 0, 0, 0, 0, 0, 0, 0, 0, 0],\n",
       "       [0, 0, 0, 0, 0, 0, 0, 0, 0, 0],\n",
       "       [0, 0, 0, 0, 0, 0, 0, 0, 0, 0],\n",
       "       [0, 0, 0, 0, 0, 0, 0, 0, 0, 0],\n",
       "       [0, 0, 0, 0, 0, 0, 0, 0, 0, 0],\n",
       "       [0, 0, 0, 0, 0, 0, 0, 0, 0, 0],\n",
       "       [0, 0, 0, 0, 0, 0, 0, 0, 0, 0],\n",
       "       [0, 0, 0, 0, 0, 0, 0, 0, 0, 0],\n",
       "       [0, 0, 0, 0, 0, 0, 0, 0, 0, 0],\n",
       "       [0, 0, 0, 0, 0, 0, 0, 0, 0, 0]])"
      ]
     },
     "execution_count": 2,
     "metadata": {},
     "output_type": "execute_result"
    }
   ],
   "source": [
    "zeros = np.zeros((10,10),dtype=int)\n",
    "zeros"
   ]
  },
  {
   "cell_type": "markdown",
   "metadata": {},
   "source": [
    "### 4. Icerisinde ‘1’ ler olan, veri tipi float olan 10X10’luk bir matris olusturunuz."
   ]
  },
  {
   "cell_type": "code",
   "execution_count": 3,
   "metadata": {},
   "outputs": [
    {
     "data": {
      "text/plain": [
       "array([[1., 1., 1., 1., 1., 1., 1., 1., 1., 1.],\n",
       "       [1., 1., 1., 1., 1., 1., 1., 1., 1., 1.],\n",
       "       [1., 1., 1., 1., 1., 1., 1., 1., 1., 1.],\n",
       "       [1., 1., 1., 1., 1., 1., 1., 1., 1., 1.],\n",
       "       [1., 1., 1., 1., 1., 1., 1., 1., 1., 1.],\n",
       "       [1., 1., 1., 1., 1., 1., 1., 1., 1., 1.],\n",
       "       [1., 1., 1., 1., 1., 1., 1., 1., 1., 1.],\n",
       "       [1., 1., 1., 1., 1., 1., 1., 1., 1., 1.],\n",
       "       [1., 1., 1., 1., 1., 1., 1., 1., 1., 1.],\n",
       "       [1., 1., 1., 1., 1., 1., 1., 1., 1., 1.]])"
      ]
     },
     "execution_count": 3,
     "metadata": {},
     "output_type": "execute_result"
    }
   ],
   "source": [
    "ones = np.ones((10,10))\n",
    "ones"
   ]
  },
  {
   "cell_type": "markdown",
   "metadata": {},
   "source": [
    "### 5.\tIcerisinde ‘9’ lar olan, veri tipi integer olan 10X10’luk bir matris olusturunuz."
   ]
  },
  {
   "cell_type": "code",
   "execution_count": 4,
   "metadata": {},
   "outputs": [
    {
     "data": {
      "text/plain": [
       "array([[9, 9, 9, 9, 9, 9, 9, 9, 9, 9],\n",
       "       [9, 9, 9, 9, 9, 9, 9, 9, 9, 9],\n",
       "       [9, 9, 9, 9, 9, 9, 9, 9, 9, 9],\n",
       "       [9, 9, 9, 9, 9, 9, 9, 9, 9, 9],\n",
       "       [9, 9, 9, 9, 9, 9, 9, 9, 9, 9],\n",
       "       [9, 9, 9, 9, 9, 9, 9, 9, 9, 9],\n",
       "       [9, 9, 9, 9, 9, 9, 9, 9, 9, 9],\n",
       "       [9, 9, 9, 9, 9, 9, 9, 9, 9, 9],\n",
       "       [9, 9, 9, 9, 9, 9, 9, 9, 9, 9],\n",
       "       [9, 9, 9, 9, 9, 9, 9, 9, 9, 9]])"
      ]
     },
     "execution_count": 4,
     "metadata": {},
     "output_type": "execute_result"
    }
   ],
   "source": [
    "nines = np.full((10,10),9,dtype=int)\n",
    "nines"
   ]
  },
  {
   "cell_type": "markdown",
   "metadata": {},
   "source": [
    "### 6.\t5 ile 25 arasinda, 3’er 3’er atlayan tek boyutlu bir Array olusturunuz."
   ]
  },
  {
   "cell_type": "code",
   "execution_count": 5,
   "metadata": {},
   "outputs": [
    {
     "data": {
      "text/plain": [
       "array([ 5,  8, 11, 14, 17, 20, 23])"
      ]
     },
     "execution_count": 5,
     "metadata": {},
     "output_type": "execute_result"
    }
   ],
   "source": [
    "numbers = np.arange(5,25,3)\n",
    "numbers"
   ]
  },
  {
   "cell_type": "markdown",
   "metadata": {},
   "source": [
    "### 7. -1 ile 1 arasinda 30 adet Array olusturunuz."
   ]
  },
  {
   "cell_type": "code",
   "execution_count": 6,
   "metadata": {},
   "outputs": [
    {
     "data": {
      "text/plain": [
       "array([-1.        , -0.93103448, -0.86206897, -0.79310345, -0.72413793,\n",
       "       -0.65517241, -0.5862069 , -0.51724138, -0.44827586, -0.37931034,\n",
       "       -0.31034483, -0.24137931, -0.17241379, -0.10344828, -0.03448276,\n",
       "        0.03448276,  0.10344828,  0.17241379,  0.24137931,  0.31034483,\n",
       "        0.37931034,  0.44827586,  0.51724138,  0.5862069 ,  0.65517241,\n",
       "        0.72413793,  0.79310345,  0.86206897,  0.93103448,  1.        ])"
      ]
     },
     "execution_count": 6,
     "metadata": {},
     "output_type": "execute_result"
    }
   ],
   "source": [
    "array = np.linspace(-1,1,30)\n",
    "array"
   ]
  },
  {
   "cell_type": "markdown",
   "metadata": {},
   "source": [
    "### 8.\t0 ile 30 arasinda 5x6’lik bir matris olusturun."
   ]
  },
  {
   "cell_type": "code",
   "execution_count": 7,
   "metadata": {},
   "outputs": [
    {
     "data": {
      "text/plain": [
       "array([[ 2,  6, 15,  8, 17, 28],\n",
       "       [ 2, 14, 22,  7,  6, 24],\n",
       "       [10, 24, 28,  4, 26, 25],\n",
       "       [ 0, 17, 27, 23,  1, 20],\n",
       "       [13, 11,  9, 16,  2,  1]])"
      ]
     },
     "execution_count": 7,
     "metadata": {},
     "output_type": "execute_result"
    }
   ],
   "source": [
    "shape = np.random.randint(0,30,size=(5,6))\n",
    "shape"
   ]
  },
  {
   "cell_type": "markdown",
   "metadata": {},
   "source": [
    "### 9.\tKosegenleri 1 olan 10x10’luk bir matris olusturunuz. "
   ]
  },
  {
   "cell_type": "code",
   "execution_count": 8,
   "metadata": {},
   "outputs": [
    {
     "data": {
      "text/plain": [
       "array([[1, 0, 0, 0, 0, 0, 0, 0, 0, 0],\n",
       "       [0, 1, 0, 0, 0, 0, 0, 0, 0, 0],\n",
       "       [0, 0, 1, 0, 0, 0, 0, 0, 0, 0],\n",
       "       [0, 0, 0, 1, 0, 0, 0, 0, 0, 0],\n",
       "       [0, 0, 0, 0, 1, 0, 0, 0, 0, 0],\n",
       "       [0, 0, 0, 0, 0, 1, 0, 0, 0, 0],\n",
       "       [0, 0, 0, 0, 0, 0, 1, 0, 0, 0],\n",
       "       [0, 0, 0, 0, 0, 0, 0, 1, 0, 0],\n",
       "       [0, 0, 0, 0, 0, 0, 0, 0, 1, 0],\n",
       "       [0, 0, 0, 0, 0, 0, 0, 0, 0, 1]])"
      ]
     },
     "execution_count": 8,
     "metadata": {},
     "output_type": "execute_result"
    }
   ],
   "source": [
    "eye = np.eye(10,dtype=int)\n",
    "eye"
   ]
  },
  {
   "cell_type": "markdown",
   "metadata": {},
   "source": [
    "### 10. 0 ile 10 arasinda 5x10’lik bir matris olusturun. (integer) ve bu matrisin;\n",
    "* a. eleman sayisini \n",
    "* b. boyut bilgisini/sayisini \n",
    "* c. satir X sutun bilgisini \n",
    "* d. veri tipini numpy metodlariyla yazdiriniz."
   ]
  },
  {
   "cell_type": "code",
   "execution_count": 9,
   "metadata": {},
   "outputs": [
    {
     "name": "stdout",
     "output_type": "stream",
     "text": [
      "a. 50\n",
      "b. 2\n",
      "c. (5, 10)\n",
      "d. int64\n",
      "[[1 0 0 5 6 4 9 7 8 7]\n",
      " [0 7 8 1 1 2 3 0 2 4]\n",
      " [2 4 7 2 4 0 2 5 2 9]\n",
      " [9 1 9 4 6 4 4 1 6 3]\n",
      " [9 9 4 4 0 6 5 2 6 1]]\n"
     ]
    }
   ],
   "source": [
    "rand = np.random.randint(0,10,size = (5,10))\n",
    "print('a.',rand.size)\n",
    "print('b.',rand.ndim)\n",
    "print('c.',rand.shape)\n",
    "print('d.',rand.dtype)\n",
    "print(rand)"
   ]
  },
  {
   "cell_type": "markdown",
   "metadata": {},
   "source": [
    "### 11. 0 ile 10 arasindaki degerlerden olusan 3 adet 4x7’lik bir matris olusturunuz. (3 boyutlu bir matris olusturulacak)"
   ]
  },
  {
   "cell_type": "code",
   "execution_count": 10,
   "metadata": {},
   "outputs": [
    {
     "data": {
      "text/plain": [
       "array([[[4, 2, 9, 8, 7, 6, 9],\n",
       "        [5, 3, 7, 5, 9, 5, 0],\n",
       "        [9, 6, 9, 5, 8, 5, 8],\n",
       "        [3, 3, 4, 4, 2, 9, 6]],\n",
       "\n",
       "       [[8, 7, 9, 7, 0, 9, 0],\n",
       "        [9, 7, 2, 5, 6, 0, 4],\n",
       "        [6, 1, 7, 3, 1, 1, 5],\n",
       "        [0, 0, 3, 6, 0, 6, 9]],\n",
       "\n",
       "       [[5, 3, 8, 2, 6, 1, 2],\n",
       "        [6, 6, 6, 7, 2, 8, 0],\n",
       "        [5, 7, 5, 5, 2, 5, 5],\n",
       "        [6, 8, 5, 7, 2, 3, 2]]])"
      ]
     },
     "execution_count": 10,
     "metadata": {},
     "output_type": "execute_result"
    }
   ],
   "source": [
    "matris = np.random.randint(0,10,size=(3,4,7))\n",
    "matris"
   ]
  },
  {
   "cell_type": "markdown",
   "metadata": {},
   "source": [
    "### 12. Bir vektor olusturunuz ve daha sonrasinda ayni vektoru bir matrise ceviriniz. (boyut sayisini degistirin.)"
   ]
  },
  {
   "cell_type": "code",
   "execution_count": 11,
   "metadata": {},
   "outputs": [
    {
     "data": {
      "text/plain": [
       "array([[0, 1, 2],\n",
       "       [3, 4, 5],\n",
       "       [6, 7, 8]])"
      ]
     },
     "execution_count": 11,
     "metadata": {},
     "output_type": "execute_result"
    }
   ],
   "source": [
    "vector = np.arange(0,9)\n",
    "vector = vector.reshape(3,3)\n",
    "vector"
   ]
  },
  {
   "cell_type": "markdown",
   "metadata": {},
   "source": [
    "### 13. 4 tane ayri tek boyutlu array’i birlestirerek bir array olusturunuz."
   ]
  },
  {
   "cell_type": "code",
   "execution_count": 12,
   "metadata": {},
   "outputs": [
    {
     "data": {
      "text/plain": [
       "array([ 1,  2,  3,  4,  5,  6,  7,  8,  9, 10, 11, 12, 13, 14, 15, 16, 17,\n",
       "       18, 19])"
      ]
     },
     "execution_count": 12,
     "metadata": {},
     "output_type": "execute_result"
    }
   ],
   "source": [
    "a1 = np.array([i for i in range(1,5)])\n",
    "a2 = np.array([i for i in range(5,10)])\n",
    "a3 = np.array([i for i in range(10,15)])\n",
    "a4 = np.array([i for i in range(15,20)])\n",
    "np.concatenate([a1,a2,a3,a4])"
   ]
  },
  {
   "cell_type": "markdown",
   "metadata": {},
   "source": [
    "### 14. 2 boyutlu bir vektor ve bir matris olusturun(ayri ayri), bu iki arrayi numpy metodlarini kullanarak sutun bazli birlestiriniz,"
   ]
  },
  {
   "cell_type": "code",
   "execution_count": 13,
   "metadata": {},
   "outputs": [
    {
     "data": {
      "text/plain": [
       "array([[ 2,  2,  4],\n",
       "       [ 6,  5, 10]])"
      ]
     },
     "execution_count": 13,
     "metadata": {},
     "output_type": "execute_result"
    }
   ],
   "source": [
    "vector = np.array([[2],[6]])\n",
    "matris = np.array([[2,4],[5,10]])\n",
    "np.hstack([vector,matris])"
   ]
  },
  {
   "cell_type": "markdown",
   "metadata": {},
   "source": [
    "### 15. Numpy’da “axis=1” ve “axis=0” arasinda ne fark vardir. Teorik olarak yaziniz?"
   ]
  },
  {
   "cell_type": "markdown",
   "metadata": {},
   "source": [
    "axis = 0 is for column, axis = 1 is for row."
   ]
  },
  {
   "cell_type": "markdown",
   "metadata": {},
   "source": [
    "### 16. Farkli boyutlardaki arraylari satir ve sutun bazli ayri ayri birlestiriniz."
   ]
  },
  {
   "cell_type": "code",
   "execution_count": 14,
   "metadata": {},
   "outputs": [
    {
     "name": "stdout",
     "output_type": "stream",
     "text": [
      "[[1 1 4 5 6]\n",
      " [2 2 7 8 9]]\n",
      "[[4 5]\n",
      " [7 8]\n",
      " [1 1]\n",
      " [2 2]]\n"
     ]
    }
   ],
   "source": [
    "first = np.array([[1,1],[2,2]])\n",
    "second = np.array([[4,5,6],[7,8,9]])\n",
    "print(np.hstack([first,second]))\n",
    "first = np.array([[1,1],[2,2]])\n",
    "second = np.array([[4,5],[7,8]])\n",
    "print(np.vstack([second,first]))"
   ]
  },
  {
   "cell_type": "markdown",
   "metadata": {},
   "source": [
    "### 17. 10 elemanli bi liste olusturunuz ve bu listeyi Numpy metodlariyla bolerek(split) 4 ayri array olusturunuz."
   ]
  },
  {
   "cell_type": "code",
   "execution_count": 15,
   "metadata": {},
   "outputs": [
    {
     "data": {
      "text/plain": [
       "[array([0, 1]), array([2, 3]), array([4, 5]), array([6, 7]), array([8, 9])]"
      ]
     },
     "execution_count": 15,
     "metadata": {},
     "output_type": "execute_result"
    }
   ],
   "source": [
    "liste = [i for i in range(10)]\n",
    "np.split(liste,[2,4,6,8])"
   ]
  },
  {
   "cell_type": "markdown",
   "metadata": {},
   "source": [
    "### 18. Random bir array olusturunuz ve bu arrayi buyukten kucuge dogru siralayiniz. Sonra hangi elemanin hangi indexte oldugunu gosteren bir metod uygulayiniz.\n",
    "\n"
   ]
  },
  {
   "cell_type": "code",
   "execution_count": 16,
   "metadata": {},
   "outputs": [
    {
     "name": "stdout",
     "output_type": "stream",
     "text": [
      "0. index 26\n",
      "1. index 23\n",
      "2. index 21\n",
      "3. index 9\n",
      "4. index 9\n",
      "5. index 7\n",
      "6. index 5\n",
      "7. index 4\n",
      "8. index 3\n",
      "9. index 1\n"
     ]
    }
   ],
   "source": [
    "random = np.random.randint(1,30,size=10)\n",
    "random = np.sort(random)\n",
    "for i in range(len(random)):\n",
    "    print(str(i)+'. index',random[::-1][i])"
   ]
  },
  {
   "cell_type": "markdown",
   "metadata": {},
   "source": [
    "### 19. 20 elemanli random bir vektor olusturunuz. Bu vektorun 3. 5. ve 7. elemanlarina ulasin."
   ]
  },
  {
   "cell_type": "code",
   "execution_count": 17,
   "metadata": {},
   "outputs": [
    {
     "name": "stdout",
     "output_type": "stream",
     "text": [
      "[58 36 47  2 91  4 22 76 34 73 76 77 72 92 44 96 19 40 64 52]\n",
      "Third:  47 \n",
      "Fifth:  91 \n",
      "Seventh:  22\n"
     ]
    }
   ],
   "source": [
    "random = np.random.randint(1,100,20,int)\n",
    "print(random)\n",
    "print('Third: ',random[2],'\\nFifth: ',random[4],'\\nSeventh: ',random[6])\n"
   ]
  },
  {
   "cell_type": "markdown",
   "metadata": {},
   "source": [
    "### 20. 10 elemanli random bir vektor olusturunuz ve bu arrayin 4. elemanini farkli bir sayiyla degistiriniz."
   ]
  },
  {
   "cell_type": "code",
   "execution_count": 18,
   "metadata": {},
   "outputs": [
    {
     "name": "stdout",
     "output_type": "stream",
     "text": [
      "[12 82  8 36 46 25 83 69 15 63]\n",
      "[  12   82    8 1000   46   25   83   69   15   63]\n"
     ]
    }
   ],
   "source": [
    "random = np.random.randint(1,100,10,int)\n",
    "print(random)\n",
    "random[3] = 1000\n",
    "print(random)"
   ]
  },
  {
   "cell_type": "markdown",
   "metadata": {},
   "source": [
    "### 21. “Diagonal Matrix” ve “Trace Matrix” kavramlari hakkinda bir arastirma yapip bunlarin ne oldugunu belirten kucuk bir aciklama yaziniz."
   ]
  },
  {
   "cell_type": "markdown",
   "metadata": {},
   "source": [
    "* Diagonal Matrix kosegeni degerleri disindaki degerlerin 0 oldugu kare matrixdir. (1x1, 2x2, 3x3 ...)\n",
    "* Trace Matrix kare matrixinin kose degerlerin toplanmasiyla elde edilen degerdir."
   ]
  },
  {
   "cell_type": "markdown",
   "metadata": {},
   "source": [
    "### 22. 5x5’lik Diagonal bir matris olusturunuz ve Diagonaline denk gelen indexlere ulasiniz.(ayri ayri)"
   ]
  },
  {
   "cell_type": "code",
   "execution_count": 19,
   "metadata": {},
   "outputs": [
    {
     "name": "stdout",
     "output_type": "stream",
     "text": [
      "[[75 39 94 54 38]\n",
      " [64 94 15 90 17]\n",
      " [80 95 61 28 68]\n",
      " [53 11 78 17  5]\n",
      " [60 48  1 66 73]]\n",
      "75\n",
      "94\n",
      "61\n",
      "17\n",
      "73\n"
     ]
    }
   ],
   "source": [
    "random = np.random.randint(1,100,25,int).reshape(5,5)\n",
    "print(random)\n",
    "print(*[random[i,i] for i in range(5)],sep='\\n')"
   ]
  },
  {
   "cell_type": "markdown",
   "metadata": {},
   "source": [
    "### 23. 10 ile 20 arasinda bir vektor olusturunuz. Ve 3. indexten son indexe kadar olan degerleri yazdiriniz."
   ]
  },
  {
   "cell_type": "code",
   "execution_count": 20,
   "metadata": {},
   "outputs": [
    {
     "name": "stdout",
     "output_type": "stream",
     "text": [
      "[11 12 13 14 15 16 17 18 19]\n",
      "[14 15 16 17 18 19]\n"
     ]
    }
   ],
   "source": [
    "values = np.arange(11,20)\n",
    "print(values)\n",
    "print(values[3:])"
   ]
  },
  {
   "cell_type": "markdown",
   "metadata": {},
   "source": [
    "### 24. 10X10 luk bir matris olusturunuz ve 3.satirin 5.sutununa ulasiniz. Ayrica;\n",
    "* a. 5.sutunun tum satirlarina ulasiniz. \n",
    "* b. Tum sutunlarin 2.satirlarina ulasiniz. \n",
    "* c. tum sutunlarin 2 ile 7 arasindaki satirlarina ulasiniz. \n",
    "* d. satir indexi 2’den 5’e ve sutun indexi 3 den 7’ye kadar olan degerlere ulasiniz. \n",
    "* e. satir indexi 5’den en sona ve sutun indexi en bastan 4’e kadar olan degerlere ulasiniz. \n",
    "* f. sutun indexi sadece 3, 6,9 olan kolonlarin(sutunlarin), tum satirlarina ulasiniz. \n",
    "* g. 5. indexli satir ve 5.indexli sutuna denk gelen degeri, dogum yilinizla degistiriniz."
   ]
  },
  {
   "cell_type": "code",
   "execution_count": 21,
   "metadata": {},
   "outputs": [
    {
     "name": "stdout",
     "output_type": "stream",
     "text": [
      "33\n",
      "a: 4. column [54 95 33 29 23 64 17  2 71 10]\n",
      "b:  [57 16 50 88 95 93 92  7 45 79]\n",
      "c:  [[57 16 50 88 95 93 92  7 45 79]\n",
      " [70  2 91 34 33 74 11 19 87 76]\n",
      " [81 73 65 32 29 18 77 64 67 16]\n",
      " [42 90 35 26 23 91 97 91 86 47]\n",
      " [ 6 27 72 79 64 47 95 74 74 84]\n",
      " [45  5 89 56 17 16 90 52 77 18]]\n",
      "d:  [[34 33 74 11]\n",
      " [32 29 18 77]\n",
      " [26 23 91 97]]\n",
      "e:  [[ 6 27 72 79]\n",
      " [45  5 89 56]\n",
      " [ 5 92 44  9]\n",
      " [29 85 25 61]\n",
      " [21 11  3 98]]\n",
      "f:  [[57 45 23]\n",
      " [50 93 45]\n",
      " [91 74 87]\n",
      " [65 18 67]\n",
      " [35 91 86]\n",
      " [72 47 74]\n",
      " [89 16 77]\n",
      " [44 40  2]\n",
      " [25 28 98]\n",
      " [ 3  4 57]]\n",
      "1995\n",
      "[[   9   50   57   85   54   45   97   63   23   75]\n",
      " [  57   16   50   88   95   93   92    7   45   79]\n",
      " [  70    2   91   34   33   74   11   19   87   76]\n",
      " [  81   73   65   32   29   18   77   64   67   16]\n",
      " [  42   90   35   26 1995   91   97   91   86   47]\n",
      " [   6   27   72   79   64   47   95   74   74   84]\n",
      " [  45    5   89   56   17   16   90   52   77   18]\n",
      " [   5   92   44    9    2   40   66   66    2   64]\n",
      " [  29   85   25   61   71   28   44    6   98    9]\n",
      " [  21   11    3   98   10    4   18   60   57   76]]\n"
     ]
    }
   ],
   "source": [
    "random = np.random.randint(1,100,100,int).reshape(10,10)\n",
    "print(random[2,4])\n",
    "print('a: 4. column', random[:,4])\n",
    "print('b: ',random[1,:])\n",
    "print('c: ',random[1:7,:])\n",
    "print('d: ',random[2:5,3:7])\n",
    "print('e: ',random[5:,:4])\n",
    "print('f: ',random[:,(2,5,8)])\n",
    "random[4,4] = 1995\n",
    "print(random[4,4])\n",
    "print(random)"
   ]
  },
  {
   "cell_type": "markdown",
   "metadata": {},
   "source": [
    "### 25. 0’dan 50’ye kadar 5’er 5’er atlayarak giden bir array olusturunuz (tek boyutlu) ve numpy metodlariyla asagidaki islemleri uygulayin;\n",
    "\n",
    "* a. 20 den buyuk olan kac deger var. \n",
    "* b. 30’dan kucuk kac deger var \n",
    "* c. icerisinde 33 gecen kac deger var \n",
    "* d. olusturulan arrayin tum elemanlarini 5 ile carpin. \n",
    "* e. olusturulan arrayin tum elemanlarinin 2 ile bolumunden kalanlari yazdiriniz."
   ]
  },
  {
   "cell_type": "code",
   "execution_count": 22,
   "metadata": {},
   "outputs": [
    {
     "name": "stdout",
     "output_type": "stream",
     "text": [
      "[ 0  5 10 15 20 25 30 35 40 45]\n",
      "a:  5\n",
      "b:  6\n",
      "c:  0\n",
      "d:  [  0  25  50  75 100 125 150 175 200 225]\n",
      "f:  [0 1 0 1 0 1 0 1 0 1]\n"
     ]
    }
   ],
   "source": [
    "array = np.arange(0,50,5)\n",
    "print(array)\n",
    "print('a: ',(array>20).sum())\n",
    "print('b: ',(array<30).sum())\n",
    "print('c: ',(array==33).sum())\n",
    "print('d: ',(array*5))\n",
    "print('f: ',(array%2))"
   ]
  },
  {
   "cell_type": "markdown",
   "metadata": {},
   "source": [
    "### 26. 0 ile 1 arasinda 50 elamanli bir array olusturunuz ve ortalamasini aliniz. Ayrica;\n",
    "* a. standart sapmasini aliniz. \n",
    "* b. varyansini aliniz. \n",
    "* c. median’ini aliniz. \n",
    "* d. en kucuk degeri bulunuz. \n",
    "* e. en buyuk degeri bulunuz."
   ]
  },
  {
   "cell_type": "code",
   "execution_count": 23,
   "metadata": {},
   "outputs": [
    {
     "name": "stdout",
     "output_type": "stream",
     "text": [
      "0.5\n",
      "0.2945075446869757\n",
      "0.086734693877551\n",
      "0.5\n",
      "0.0\n",
      "1.0\n",
      "[0.         0.02040816 0.04081633 0.06122449 0.08163265 0.10204082\n",
      " 0.12244898 0.14285714 0.16326531 0.18367347 0.20408163 0.2244898\n",
      " 0.24489796 0.26530612 0.28571429 0.30612245 0.32653061 0.34693878\n",
      " 0.36734694 0.3877551  0.40816327 0.42857143 0.44897959 0.46938776\n",
      " 0.48979592 0.51020408 0.53061224 0.55102041 0.57142857 0.59183673\n",
      " 0.6122449  0.63265306 0.65306122 0.67346939 0.69387755 0.71428571\n",
      " 0.73469388 0.75510204 0.7755102  0.79591837 0.81632653 0.83673469\n",
      " 0.85714286 0.87755102 0.89795918 0.91836735 0.93877551 0.95918367\n",
      " 0.97959184 1.        ]\n"
     ]
    }
   ],
   "source": [
    "random = np.linspace(0,1,50)\n",
    "print(np.mean(random))\n",
    "print(np.std(random))\n",
    "print(np.var(random))\n",
    "print(np.median(random))\n",
    "print(np.min(random))\n",
    "print(np.max(random))\n",
    "print(random)"
   ]
  },
  {
   "cell_type": "markdown",
   "metadata": {},
   "source": [
    "### 27.\tPandas seriler ve numpy arrayler arasindaki farklar nelerdir yaziniz."
   ]
  },
  {
   "cell_type": "markdown",
   "metadata": {},
   "source": [
    "* Pandas serilerinde index sutunu bulunur. Defaulti 0 dan baslar n-1'e kadar devam eder."
   ]
  },
  {
   "cell_type": "markdown",
   "metadata": {},
   "source": [
    "### 28.\tIndexi buyuk harflerden olusan, icinde farkli veri tipleri bulunan 5 elemanli bir seri olusturunuz."
   ]
  },
  {
   "cell_type": "code",
   "execution_count": 24,
   "metadata": {},
   "outputs": [
    {
     "data": {
      "text/plain": [
       "A       1\n",
       "B       A\n",
       "C    True\n",
       "D    None\n",
       "E      15\n",
       "dtype: object"
      ]
     },
     "execution_count": 24,
     "metadata": {},
     "output_type": "execute_result"
    }
   ],
   "source": [
    "import pandas as pd\n",
    "series = pd.Series([1,'A',True,None,15],index=('A','B','C','D','E'))\n",
    "series"
   ]
  },
  {
   "cell_type": "markdown",
   "metadata": {},
   "source": [
    "### 29.\tKey’ler ulke adlari, value’lar baskentleri olacak sekilde 5 elemanli bir sozluk olusturup onu seriye ceviriniz. (ornek: fransa:paris)"
   ]
  },
  {
   "cell_type": "code",
   "execution_count": 25,
   "metadata": {},
   "outputs": [
    {
     "data": {
      "text/plain": [
       "Netherlands    Amsterdam\n",
       "Greece            Athens\n",
       "Sweden         Stockholm\n",
       "Spain             Madrid\n",
       "Turkey            Ankara\n",
       "dtype: object"
      ]
     },
     "execution_count": 25,
     "metadata": {},
     "output_type": "execute_result"
    }
   ],
   "source": [
    "dictionary = {\"Netherlands\":'Amsterdam', \"Greece\":'Athens', \"Sweden\":'Stockholm', \"Spain\":'Madrid', \"Turkey\":'Ankara'}\n",
    "series = pd.Series(dictionary)\n",
    "series"
   ]
  },
  {
   "cell_type": "markdown",
   "metadata": {},
   "source": [
    "### 30.\t10 elemanli random bir vektor olusturun.\n",
    "* Vektoru seriye cevirip indexleri str olarak belirleyin. \n",
    "(ornek: a,b,c,d,e,f,g.. seklinde)\n",
    "* Index ismine gore serinin 3. elemanina ulasin. \n",
    "(ornek: c indexine karsilik gelen deger)\n",
    "* Serinin index sirasina gore 1. Elamanina ulasin.\n",
    "* Index ismine gore serinin  2. Ve 7. Elemanlarina ayni anda ulasin. \n",
    "(Ornek: b ve g indexine karsilik gelen degerler)\n",
    "* Index ismi ile serinin 2. Ve 7. Elemanlari arasindaki degerleri yazdirin.\n",
    "(Ornek: b,c,d,e,f,g indexlerine karsilik gelen degerler)\n",
    "* Index sirasiyla serinin 4. indexinden son indexine kadar olan degerleri yazdirin."
   ]
  },
  {
   "cell_type": "code",
   "execution_count": 26,
   "metadata": {},
   "outputs": [
    {
     "name": "stdout",
     "output_type": "stream",
     "text": [
      "[34 65 56 15  9 37 32 43  2 75]\n",
      "A    34\n",
      "B    65\n",
      "C    56\n",
      "D    15\n",
      "E     9\n",
      "F    37\n",
      "G    32\n",
      "H    43\n",
      "I     2\n",
      "J    75\n",
      "dtype: int64\n",
      "56\n",
      "34\n",
      "B    65\n",
      "G    32\n",
      "dtype: int64\n",
      "B    65\n",
      "C    56\n",
      "D    15\n",
      "E     9\n",
      "F    37\n",
      "G    32\n",
      "dtype: int64\n",
      "D    15\n",
      "E     9\n",
      "F    37\n",
      "G    32\n",
      "H    43\n",
      "I     2\n",
      "J    75\n",
      "dtype: int64\n"
     ]
    }
   ],
   "source": [
    "random = np.random.randint(1,100,10)\n",
    "print(random)\n",
    "random = pd.Series(random,index=('A','B','C','D','E','F','G','H','I','J'))\n",
    "print(random)\n",
    "print(random['C'])\n",
    "print(random[0])\n",
    "print(random[['B','G']])\n",
    "print(random['B':'G'])\n",
    "print(random[3:])"
   ]
  },
  {
   "cell_type": "markdown",
   "metadata": {},
   "source": [
    "### 31.\t2 adet 5 elemanli seri olusturun.\n",
    "* Olusturdugunuz serileri birlestirin.\n",
    "* Birlesen 10 elemanli serinin indexini 1’den 10’a kadar olacak sekilde duzenleyin.\n",
    "* Indexini duzenlediginiz seride, loc ve iloc metodlari ile, indexi 4,5,6 olan degerlere ulasin."
   ]
  },
  {
   "cell_type": "code",
   "execution_count": 27,
   "metadata": {},
   "outputs": [
    {
     "name": "stdout",
     "output_type": "stream",
     "text": [
      "0    1\n",
      "1    3\n",
      "2    4\n",
      "3    3\n",
      "4    4\n",
      "5    4\n",
      "6    1\n",
      "7    1\n",
      "8    3\n",
      "9    4\n",
      "dtype: int64\n",
      "4    4\n",
      "5    4\n",
      "6    1\n",
      "dtype: int64\n",
      "4    4\n",
      "5    4\n",
      "6    1\n",
      "dtype: int64\n"
     ]
    }
   ],
   "source": [
    "first = pd.Series(np.random.randint(1,5,5))\n",
    "second = pd.Series(np.random.randint(1,5,5))\n",
    "concat = pd.concat([first,second],ignore_index=True)\n",
    "print(concat)\n",
    "print(concat.loc['4':'6'])\n",
    "print(concat.iloc[4:7])"
   ]
  },
  {
   "cell_type": "markdown",
   "metadata": {},
   "source": [
    "### Master odev ;\n",
    "Bir dongu icerisinde random olacak sekilde iki tane 20x20’luk matris uretin ve bu matrislerin farklarini alin. Ve fark matrisinin diagonali, -0.1 ile 0.1 arasinda olana kadar bu islemi tekrarlayin. Istenilen matris bulundugunda program dursun ve toplam kac dongunun kuruldugunu, ne kadar sure icinde buldugunu ve istenilen matrisi print ile birlikte ekrana yazdiriniz. \n",
    "* Tavsiye: 20 x 20 luk matrisin bulunmasi saatler surebilir. Bu yuzden algoritmanizin dogrulugunu test etmek icin once 4x4, 5x5 gibi kucuk matrislerde deneyebilirsiniz. Ve matris sayisisini arttirarak en son 20x20 u deneyebilirsiniz. \n",
    "(Matris uretme islemini np.random.random((a,b)) fonksiyonu ile yapabilirsiniz. 0-1 arasi istenen boyutlarda array uretir.)"
   ]
  },
  {
   "cell_type": "code",
   "execution_count": 28,
   "metadata": {},
   "outputs": [
    {
     "name": "stdout",
     "output_type": "stream",
     "text": [
      "[ 0.08950703  0.00607707 -0.07044478  0.02181793 -0.08499531 -0.08209982\n",
      "  0.06090478  0.09119324  0.04435777  0.01343671]\n",
      "Counter:  19493232\n",
      "Duration:  251.33008980751038\n"
     ]
    }
   ],
   "source": [
    "import time\n",
    "count = 0\n",
    "start_time = time.time()\n",
    "while True:\n",
    "    count+=1\n",
    "    first = np.random.rand(10,10)\n",
    "    second = np.random.rand(10,10)\n",
    "    diagonal = np.diag(first-second)\n",
    "    if len(list(filter(lambda x: x>-0.1 and x<0.1,diagonal)))==10:\n",
    "        break\n",
    "print(diagonal)\n",
    "print('Counter: ',count)\n",
    "print('Duration: ',time.time()-start_time)"
   ]
  }
 ],
 "metadata": {
  "interpreter": {
   "hash": "7c6162a375b4ae544ea28e4b8e05b576c11f8739c9ae0d2548f97354a7da6696"
  },
  "kernelspec": {
   "display_name": "Python 3.8.5 64-bit ('base': conda)",
   "language": "python",
   "name": "python3"
  },
  "language_info": {
   "codemirror_mode": {
    "name": "ipython",
    "version": 3
   },
   "file_extension": ".py",
   "mimetype": "text/x-python",
   "name": "python",
   "nbconvert_exporter": "python",
   "pygments_lexer": "ipython3",
   "version": "3.8.5"
  },
  "orig_nbformat": 4
 },
 "nbformat": 4,
 "nbformat_minor": 2
}
