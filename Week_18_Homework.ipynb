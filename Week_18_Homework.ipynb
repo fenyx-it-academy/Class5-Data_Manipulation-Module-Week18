{
  "nbformat": 4,
  "nbformat_minor": 0,
  "metadata": {
    "colab": {
      "name": "Week_18 Homework.ipynb",
      "provenance": [],
      "collapsed_sections": []
    },
    "kernelspec": {
      "name": "python3",
      "display_name": "Python 3"
    },
    "language_info": {
      "name": "python"
    }
  },
  "cells": [
    {
      "cell_type": "code",
      "source": [
        "import numpy as np"
      ],
      "metadata": {
        "id": "hxeoWDNtrlnW"
      },
      "execution_count": 1,
      "outputs": []
    },
    {
      "cell_type": "markdown",
      "source": [
        "Q1. Numpy’da Vektor ve Matrisin farkini tek cumle ile ifade ediniz.\n",
        "\n",
        "A1. Vektörler tek boyutludur . Tek array barındırır. Matrisler ise çok boyutlu ve birden fazla array barındırırlar\n"
      ],
      "metadata": {
        "id": "RmPpp08prUPK"
      }
    },
    {
      "cell_type": "markdown",
      "source": [
        "10 elemanli bir listeden NumPy Array’i olusturunuz."
      ],
      "metadata": {
        "id": "0phSY_G6sEES"
      }
    },
    {
      "cell_type": "code",
      "source": [
        "liste = range(1,10)\n",
        "array = np.array(liste)\n",
        "array"
      ],
      "metadata": {
        "colab": {
          "base_uri": "https://localhost:8080/"
        },
        "id": "4jgYqrtwrsLB",
        "outputId": "313836bd-7293-4292-a60b-b935eb3db66e"
      },
      "execution_count": 2,
      "outputs": [
        {
          "output_type": "execute_result",
          "data": {
            "text/plain": [
              "array([1, 2, 3, 4, 5, 6, 7, 8, 9])"
            ]
          },
          "metadata": {},
          "execution_count": 2
        }
      ]
    },
    {
      "cell_type": "markdown",
      "source": [
        "Icerisinde ‘0’ lar olan, ve veri tipi integer olan 10X10’luk bir matris olusturunuz."
      ],
      "metadata": {
        "id": "RsK6lULNsMs0"
      }
    },
    {
      "cell_type": "code",
      "source": [
        "array = np.zeros(100).reshape(10,10)\n",
        "array"
      ],
      "metadata": {
        "colab": {
          "base_uri": "https://localhost:8080/"
        },
        "id": "EiYqbSvAsQEO",
        "outputId": "7fec50cb-a934-438e-8908-d86041eb086a"
      },
      "execution_count": 3,
      "outputs": [
        {
          "output_type": "execute_result",
          "data": {
            "text/plain": [
              "array([[0., 0., 0., 0., 0., 0., 0., 0., 0., 0.],\n",
              "       [0., 0., 0., 0., 0., 0., 0., 0., 0., 0.],\n",
              "       [0., 0., 0., 0., 0., 0., 0., 0., 0., 0.],\n",
              "       [0., 0., 0., 0., 0., 0., 0., 0., 0., 0.],\n",
              "       [0., 0., 0., 0., 0., 0., 0., 0., 0., 0.],\n",
              "       [0., 0., 0., 0., 0., 0., 0., 0., 0., 0.],\n",
              "       [0., 0., 0., 0., 0., 0., 0., 0., 0., 0.],\n",
              "       [0., 0., 0., 0., 0., 0., 0., 0., 0., 0.],\n",
              "       [0., 0., 0., 0., 0., 0., 0., 0., 0., 0.],\n",
              "       [0., 0., 0., 0., 0., 0., 0., 0., 0., 0.]])"
            ]
          },
          "metadata": {},
          "execution_count": 3
        }
      ]
    },
    {
      "cell_type": "markdown",
      "source": [
        "Icerisinde ‘1’ ler olan, veri tipi float olan 10X10’luk bir matris olusturunuz."
      ],
      "metadata": {
        "id": "Civ380hXsrRR"
      }
    },
    {
      "cell_type": "code",
      "source": [
        "array = np.ones(100,float).reshape(10,10)\n",
        "array"
      ],
      "metadata": {
        "colab": {
          "base_uri": "https://localhost:8080/"
        },
        "id": "BIiICZzjs4Xe",
        "outputId": "e9e5ac28-16de-4178-ebed-1d0b631710c5"
      },
      "execution_count": 4,
      "outputs": [
        {
          "output_type": "execute_result",
          "data": {
            "text/plain": [
              "array([[1., 1., 1., 1., 1., 1., 1., 1., 1., 1.],\n",
              "       [1., 1., 1., 1., 1., 1., 1., 1., 1., 1.],\n",
              "       [1., 1., 1., 1., 1., 1., 1., 1., 1., 1.],\n",
              "       [1., 1., 1., 1., 1., 1., 1., 1., 1., 1.],\n",
              "       [1., 1., 1., 1., 1., 1., 1., 1., 1., 1.],\n",
              "       [1., 1., 1., 1., 1., 1., 1., 1., 1., 1.],\n",
              "       [1., 1., 1., 1., 1., 1., 1., 1., 1., 1.],\n",
              "       [1., 1., 1., 1., 1., 1., 1., 1., 1., 1.],\n",
              "       [1., 1., 1., 1., 1., 1., 1., 1., 1., 1.],\n",
              "       [1., 1., 1., 1., 1., 1., 1., 1., 1., 1.]])"
            ]
          },
          "metadata": {},
          "execution_count": 4
        }
      ]
    },
    {
      "cell_type": "markdown",
      "source": [
        "Icerisinde ‘9’ lar olan, veri tipi integer olan 10X10’luk bir matris olusturunuz."
      ],
      "metadata": {
        "id": "KvcAPtHVs9Y6"
      }
    },
    {
      "cell_type": "code",
      "source": [
        "array = np.random.randint(9,10,size = (10,10))\n",
        "array"
      ],
      "metadata": {
        "colab": {
          "base_uri": "https://localhost:8080/"
        },
        "id": "UyL5LHB5tJ5_",
        "outputId": "3edb6077-4276-4945-ad57-d70540078230"
      },
      "execution_count": 5,
      "outputs": [
        {
          "output_type": "execute_result",
          "data": {
            "text/plain": [
              "array([[9, 9, 9, 9, 9, 9, 9, 9, 9, 9],\n",
              "       [9, 9, 9, 9, 9, 9, 9, 9, 9, 9],\n",
              "       [9, 9, 9, 9, 9, 9, 9, 9, 9, 9],\n",
              "       [9, 9, 9, 9, 9, 9, 9, 9, 9, 9],\n",
              "       [9, 9, 9, 9, 9, 9, 9, 9, 9, 9],\n",
              "       [9, 9, 9, 9, 9, 9, 9, 9, 9, 9],\n",
              "       [9, 9, 9, 9, 9, 9, 9, 9, 9, 9],\n",
              "       [9, 9, 9, 9, 9, 9, 9, 9, 9, 9],\n",
              "       [9, 9, 9, 9, 9, 9, 9, 9, 9, 9],\n",
              "       [9, 9, 9, 9, 9, 9, 9, 9, 9, 9]])"
            ]
          },
          "metadata": {},
          "execution_count": 5
        }
      ]
    },
    {
      "cell_type": "markdown",
      "source": [
        "5 ile 25 arasinda, 3’er 3’er atlayan tek boyutlu bir Array olusturunuz."
      ],
      "metadata": {
        "id": "qdFp4LX7tdmK"
      }
    },
    {
      "cell_type": "code",
      "source": [
        "array = np.arange(5,25,3)\n",
        "array"
      ],
      "metadata": {
        "colab": {
          "base_uri": "https://localhost:8080/"
        },
        "id": "yHAA1oOhtjzF",
        "outputId": "a99235b3-b5fe-42c3-e7a3-640593ac9648"
      },
      "execution_count": 6,
      "outputs": [
        {
          "output_type": "execute_result",
          "data": {
            "text/plain": [
              "array([ 5,  8, 11, 14, 17, 20, 23])"
            ]
          },
          "metadata": {},
          "execution_count": 6
        }
      ]
    },
    {
      "cell_type": "markdown",
      "source": [
        "-1 ile 1 arasinda 30 adet Array olusturunuz."
      ],
      "metadata": {
        "id": "N_cGDTlNt6kO"
      }
    },
    {
      "cell_type": "code",
      "source": [
        "array = np.random.randn(30)\n",
        "array"
      ],
      "metadata": {
        "colab": {
          "base_uri": "https://localhost:8080/"
        },
        "id": "g51faOhCuDW-",
        "outputId": "19095cb3-5d4c-4d5c-a7e2-cb00e32a4d6a"
      },
      "execution_count": 7,
      "outputs": [
        {
          "output_type": "execute_result",
          "data": {
            "text/plain": [
              "array([-1.49671316, -0.30259712,  0.35202113,  0.79349213, -0.65056532,\n",
              "        2.02500156,  2.64203092, -1.7119453 ,  1.87311196, -1.27397394,\n",
              "        0.36098585,  0.80277089, -1.52324766,  1.92589095,  1.78651353,\n",
              "        1.13884378, -0.01413956, -1.16627802, -0.76242731,  1.53021948,\n",
              "        0.96685344,  0.8437062 , -0.4174072 ,  1.15109502, -0.0898263 ,\n",
              "        0.23836333, -3.47800263, -1.63244156, -0.3903193 , -0.47936473])"
            ]
          },
          "metadata": {},
          "execution_count": 7
        }
      ]
    },
    {
      "cell_type": "markdown",
      "source": [
        "0 ile 30 arasinda 5x6’lik bir matris olusturun"
      ],
      "metadata": {
        "id": "EGtH3fj4u9WM"
      }
    },
    {
      "cell_type": "code",
      "source": [
        "array = np.random.randint(0,30,size=(5,6))\n",
        "array"
      ],
      "metadata": {
        "colab": {
          "base_uri": "https://localhost:8080/"
        },
        "id": "-fBeuTfavQMD",
        "outputId": "f1c83220-bf6d-4fe1-e6f7-2be8077698a1"
      },
      "execution_count": 8,
      "outputs": [
        {
          "output_type": "execute_result",
          "data": {
            "text/plain": [
              "array([[15, 16, 17, 22,  2, 23],\n",
              "       [26,  2, 22,  5, 25,  1],\n",
              "       [18, 24,  7,  7, 21,  7],\n",
              "       [ 6, 23, 13,  4, 14, 19],\n",
              "       [ 2,  3,  3,  7, 11,  7]])"
            ]
          },
          "metadata": {},
          "execution_count": 8
        }
      ]
    },
    {
      "cell_type": "markdown",
      "source": [
        "Kosegenleri 1 olan 10x10’luk bir matris olusturunuz."
      ],
      "metadata": {
        "id": "e5n8eteNvdgl"
      }
    },
    {
      "cell_type": "code",
      "source": [
        "array = np.eye(10)\n",
        "array"
      ],
      "metadata": {
        "colab": {
          "base_uri": "https://localhost:8080/"
        },
        "id": "xlSnedZxviF2",
        "outputId": "80b0bdbe-c144-4d6c-ba39-965cea78e956"
      },
      "execution_count": 10,
      "outputs": [
        {
          "output_type": "execute_result",
          "data": {
            "text/plain": [
              "array([[1., 0., 0., 0., 0., 0., 0., 0., 0., 0.],\n",
              "       [0., 1., 0., 0., 0., 0., 0., 0., 0., 0.],\n",
              "       [0., 0., 1., 0., 0., 0., 0., 0., 0., 0.],\n",
              "       [0., 0., 0., 1., 0., 0., 0., 0., 0., 0.],\n",
              "       [0., 0., 0., 0., 1., 0., 0., 0., 0., 0.],\n",
              "       [0., 0., 0., 0., 0., 1., 0., 0., 0., 0.],\n",
              "       [0., 0., 0., 0., 0., 0., 1., 0., 0., 0.],\n",
              "       [0., 0., 0., 0., 0., 0., 0., 1., 0., 0.],\n",
              "       [0., 0., 0., 0., 0., 0., 0., 0., 1., 0.],\n",
              "       [0., 0., 0., 0., 0., 0., 0., 0., 0., 1.]])"
            ]
          },
          "metadata": {},
          "execution_count": 10
        }
      ]
    },
    {
      "cell_type": "markdown",
      "source": [
        "0 ile 10 arasinda 5x10’lik bir matris olusturun. (integer) ve bu matrisin;\n",
        "\n",
        "a. eleman sayisini\n",
        "b. boyut bilgisini/sayisini\n",
        "c. satir X sutun bilgisini\n",
        "d. veri tipini numpy metodlariyla yazdiriniz."
      ],
      "metadata": {
        "id": "3vawVQDHvzkB"
      }
    },
    {
      "cell_type": "code",
      "source": [
        "array = np.random.randint(1,11,size=(5,10))\n",
        "array.size\n",
        "array.ndim\n",
        "array.shape\n",
        "array.dtype"
      ],
      "metadata": {
        "colab": {
          "base_uri": "https://localhost:8080/"
        },
        "id": "R4_eoRvYv01C",
        "outputId": "7f54b517-809a-41f0-bdeb-8326b322e086"
      },
      "execution_count": 11,
      "outputs": [
        {
          "output_type": "execute_result",
          "data": {
            "text/plain": [
              "dtype('int64')"
            ]
          },
          "metadata": {},
          "execution_count": 11
        }
      ]
    },
    {
      "cell_type": "markdown",
      "source": [
        "0 ile 10 arasindaki degerlerden olusan 3 adet 4x7’lik bir matris olusturunuz. (3 boyutlu bir matris olusturulacak)"
      ],
      "metadata": {
        "id": "7LHnwczqwLeG"
      }
    },
    {
      "cell_type": "code",
      "source": [
        "array = (np.random.randint(10,size=(3,4,7)))\n",
        "array"
      ],
      "metadata": {
        "id": "8IgBAYREwZdY"
      },
      "execution_count": null,
      "outputs": []
    },
    {
      "cell_type": "markdown",
      "source": [
        "Bir vektor olusturunuz ve daha sonrasinda ayni vektoru bir matrise ceviriniz. (boyut sayisini degistirin.)"
      ],
      "metadata": {
        "id": "oalgwvx1wbTY"
      }
    },
    {
      "cell_type": "code",
      "source": [
        "vektor = np.random.randint(1,25,9)\n",
        "vektor.reshape(3,3)"
      ],
      "metadata": {
        "id": "KrFjb5Fywndu"
      },
      "execution_count": null,
      "outputs": []
    },
    {
      "cell_type": "markdown",
      "source": [
        "4 tane ayri tek boyutlu array’i birlestirerek bir array olusturunuz."
      ],
      "metadata": {
        "id": "18Y5Se1TwqP_"
      }
    },
    {
      "cell_type": "code",
      "source": [
        "vektor1 = np.random.randint(1,15,5)\n",
        "vektor2 = np.random.randint(1,15,5)\n",
        "vektor3 = np.random.randint(1,15,5)\n",
        "vektor4 = np.random.randint(1,15,5)\n",
        "vektor1+vektor2+vektor3+vektor4"
      ],
      "metadata": {
        "id": "KhSrDkLkw6L9"
      },
      "execution_count": null,
      "outputs": []
    },
    {
      "cell_type": "markdown",
      "source": [
        "2 boyutlu bir vektor ve bir matris olusturun(ayri ayri), bu iki arrayi numpy metodlarini kullanarak sutun bazli birlestiriniz"
      ],
      "metadata": {
        "id": "1g1lND2_w9zV"
      }
    },
    {
      "cell_type": "code",
      "source": [
        "vektor1 = np.random.randint(1,15,4).reshape(2,2)\n",
        "vektor2 = np.random.randint(1,15,4).reshape(2,2)\n",
        "np.hstack([vektor1,vektor2])"
      ],
      "metadata": {
        "id": "yIsYt3EixHfM"
      },
      "execution_count": null,
      "outputs": []
    },
    {
      "cell_type": "markdown",
      "source": [
        "Numpy’da “axis=1” ve “axis=0” arasinda ne fark vardir. Teorik olarak yaziniz?\n",
        "\n",
        "Axis 1 kolonlardır 0 ise satır bazlı işlem yaptırır."
      ],
      "metadata": {
        "id": "7fe7kG60xOJy"
      }
    },
    {
      "cell_type": "markdown",
      "source": [
        "Farkli boyutlardaki arraylari satir ve sutun bazli ayri ayri birlestiriniz."
      ],
      "metadata": {
        "id": "eTVRxBPlxjzd"
      }
    },
    {
      "cell_type": "code",
      "source": [
        "vektor1 = np.random.randint(1,15,4).reshape(2,2)\n",
        "vektor2 = np.random.randint(1,15,6).reshape(3,2)\n",
        "print(vektor1)\n",
        "print(vektor2)"
      ],
      "metadata": {
        "id": "aUXzq3fax2aJ"
      },
      "execution_count": null,
      "outputs": []
    },
    {
      "cell_type": "markdown",
      "source": [
        "10 elemanli bi liste olusturunuz ve bu listeyi Numpy metodlariyla bolerek(split) 4 ayri array olusturunuz."
      ],
      "metadata": {
        "id": "AzrC6sZzx7Yx"
      }
    },
    {
      "cell_type": "code",
      "source": [
        "array = np.arange(1,11)\n",
        "np.split(array,[1,2,3])"
      ],
      "metadata": {
        "id": "t_vcEXNnyfwX"
      },
      "execution_count": null,
      "outputs": []
    },
    {
      "cell_type": "markdown",
      "source": [
        "Random bir array olusturunuz ve bu arrayi buyukten kucuge dogru siralayiniz. Sonra hangi elemanin hangi indexte oldugunu gosteren bir metod uygulayiniz."
      ],
      "metadata": {
        "id": "Swymt7KmyiX4"
      }
    },
    {
      "cell_type": "code",
      "source": [
        "array = np.random.randint(1,20,10)\n",
        "array.sort()\n",
        "print(array.argsort(),array)"
      ],
      "metadata": {
        "id": "LInmI8cqyyvl"
      },
      "execution_count": null,
      "outputs": []
    },
    {
      "cell_type": "markdown",
      "source": [
        "20 elemanli random bir vektor olusturunuz. Bu vektorun 3. 5. ve 7. elemanlarina ulasin."
      ],
      "metadata": {
        "id": "Ek6zo7Gny6nY"
      }
    },
    {
      "cell_type": "code",
      "source": [
        "array = np.random.randint(500,size=(20))\n",
        "print(array[3])\n",
        "print(array[5])\n",
        "print(array[7])"
      ],
      "metadata": {
        "id": "nINSaPPdzwIe"
      },
      "execution_count": null,
      "outputs": []
    },
    {
      "cell_type": "markdown",
      "source": [
        "10 elemanli random bir vektor olusturunuz ve bu arrayin 4. elemanini farkli bir sayiyla degistiriniz."
      ],
      "metadata": {
        "id": "N_AvvGhxz1Eo"
      }
    },
    {
      "cell_type": "code",
      "source": [
        "print(array[4])\n",
        "array[4]= 100\n",
        "print(array[4])"
      ],
      "metadata": {
        "id": "ka_-Yard0BA7"
      },
      "execution_count": null,
      "outputs": []
    },
    {
      "cell_type": "markdown",
      "source": [
        "“Diagonal Matrix” ve “Trace Matrix” kavramlari hakkinda bir arastirma yapip bunlarin ne oldugunu belirten kucuk bir aciklama yaziniz.\n",
        "\n",
        "* dioganal = 'köşegenler hariç her yer 0 olan matrixler.\n",
        "* trace matrix = sol üst köşegenden sağ alt köşegene uzanan sayıların toplamıdır."
      ],
      "metadata": {
        "id": "vaYJX4Rc0VJt"
      }
    },
    {
      "cell_type": "markdown",
      "source": [
        "5x5’lik Diagonal bir matris olusturunuz ve Diagonaline denk gelen indexlere ulasiniz.(ayri ayri)"
      ],
      "metadata": {
        "id": "pxvARCuN0_hy"
      }
    },
    {
      "cell_type": "code",
      "source": [
        "array = np.arange(1,26).reshape(5,5)\n",
        "print(array)\n",
        "diagonal = np.diag(np.diag(array))\n",
        "diagonal"
      ],
      "metadata": {
        "id": "nhNrqIAR1JCQ"
      },
      "execution_count": null,
      "outputs": []
    },
    {
      "cell_type": "markdown",
      "source": [
        "0 ile 1 arasinda 50 elamanli bir array olusturunuz ve ortalamasini aliniz. Ayrica;\n",
        "\n",
        "a. standart sapmasini aliniz.\n",
        "b. varyansini aliniz.\n",
        "c. median’ini aliniz.\n",
        "d. en kucuk degeri bulunuz.\n",
        "e. en buyuk degeri bulunuz."
      ],
      "metadata": {
        "id": "3R2GeZA51Wgu"
      }
    },
    {
      "cell_type": "code",
      "source": [
        "print(array)\n",
        "print(array.mean())\n",
        "print(np.var(array))\n",
        "print(np.median(array))\n",
        "print(np.min(array))\n",
        "print(np.max(array))"
      ],
      "metadata": {
        "id": "eA9nauUe3Tx6"
      },
      "execution_count": null,
      "outputs": []
    },
    {
      "cell_type": "markdown",
      "source": [
        "Pandas seriler ve numpy arrayler arasindaki farklar nelerdir yaziniz.\n",
        "\n",
        "Birinde index vardır birinde yoktur."
      ],
      "metadata": {
        "id": "fCJb-r4I3dXh"
      }
    },
    {
      "cell_type": "code",
      "source": [
        "import pandas as pd"
      ],
      "metadata": {
        "id": "d1bNgig237Uw"
      },
      "execution_count": null,
      "outputs": []
    },
    {
      "cell_type": "markdown",
      "source": [
        "Indexi buyuk harflerden olusan, icinde farkli veri tipleri bulunan 5 elemanli\n",
        "bir seri olusturunuz"
      ],
      "metadata": {
        "id": "QXN2dTwq3l_X"
      }
    },
    {
      "cell_type": "code",
      "source": [
        "seri = pd.Series([1,2,3,4,5],['A','B','C','D','E'])\\n\",\n",
        "seri"
      ],
      "metadata": {
        "id": "gaQS5-7n4DYj"
      },
      "execution_count": null,
      "outputs": []
    },
    {
      "cell_type": "markdown",
      "source": [
        "Key’ler ulke adlari, value’lar baskentleri olacak sekilde 5 elemanli bir sozluk olusturup onu seriye ceviriniz. (ornek: fransa:paris)"
      ],
      "metadata": {
        "id": "Iwtaw6iz4Eki"
      }
    },
    {
      "cell_type": "code",
      "source": [
        "sozluk = {'Türkiye':'Ankara','Hollanda':'Amsterdam','Amerika':'Washington','Fransa':'Paris','Almanya':'Berlin'}\n",
        "seri = pd.Series(sozluk)\n",
        "seri"
      ],
      "metadata": {
        "id": "pfaFc1Rl4Sqx"
      },
      "execution_count": null,
      "outputs": []
    },
    {
      "cell_type": "markdown",
      "source": [
        "10 elemanli random bir vektor olusturun.\n",
        "\n",
        "Vektoru seriye cevirip indexleri str olarak belirleyin. (ornek: a,b,c,d,e,f,g.. seklinde)\n",
        "Index ismine gore serinin 3. elemanina ulasin. (ornek: c indexine karsilik gelen deger)\n",
        "Serinin index sirasina gore 1. Elamanina ulasin.\n",
        "Index ismine gore serinin 2. Ve 7. Elemanlarina ayni anda ulasin. (Ornek: b ve g indexine karsilik gelen degerler)\n",
        "Index ismi ile serinin 2. Ve 7. Elemanlari arasindaki degerleri yazdirin. (Ornek: b,c,d,e,f,g indexlerine karsilik gelen degerler)\n",
        "Index sirasiyla serinin 4. indexinden son indexine kadar olan degerleri yazdirin."
      ],
      "metadata": {
        "id": "u9Dh35pJ4Tz8"
      }
    },
    {
      "cell_type": "code",
      "source": [
        "vektor = np.array(['a','b','c','d','e','f','g','h','i','m'])\n",
        "seri = pd.Series(range(1,11),index=(vektor),dtype=str)\n",
        "seri"
      ],
      "metadata": {
        "id": "f4yTapks4eQo"
      },
      "execution_count": null,
      "outputs": []
    }
  ]
}