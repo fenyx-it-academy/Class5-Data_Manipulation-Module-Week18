{
 "cells": [
  {
   "cell_type": "code",
   "execution_count": 2,
   "id": "3f5f2ef2",
   "metadata": {},
   "outputs": [],
   "source": [
    "import numpy as np \n",
    "\n"
   ]
  },
  {
   "cell_type": "code",
   "execution_count": 2,
   "id": "0c51cef9",
   "metadata": {},
   "outputs": [],
   "source": [
    "# vektor tek boyutlu bir dizi matrix 2 boyutlu dizidir.##1"
   ]
  },
  {
   "cell_type": "code",
   "execution_count": 4,
   "id": "d8ce429e",
   "metadata": {},
   "outputs": [
    {
     "data": {
      "text/plain": [
       "array([0, 1, 2, 3, 4, 5, 6, 7, 8, 9])"
      ]
     },
     "execution_count": 4,
     "metadata": {},
     "output_type": "execute_result"
    }
   ],
   "source": [
    "a = np.arange(10)#2\n",
    "a"
   ]
  },
  {
   "cell_type": "code",
   "execution_count": 5,
   "id": "190212af",
   "metadata": {},
   "outputs": [
    {
     "data": {
      "text/plain": [
       "array([[0, 0, 0, 0, 0, 0, 0, 0, 0, 0],\n",
       "       [0, 0, 0, 0, 0, 0, 0, 0, 0, 0],\n",
       "       [0, 0, 0, 0, 0, 0, 0, 0, 0, 0],\n",
       "       [0, 0, 0, 0, 0, 0, 0, 0, 0, 0],\n",
       "       [0, 0, 0, 0, 0, 0, 0, 0, 0, 0],\n",
       "       [0, 0, 0, 0, 0, 0, 0, 0, 0, 0],\n",
       "       [0, 0, 0, 0, 0, 0, 0, 0, 0, 0],\n",
       "       [0, 0, 0, 0, 0, 0, 0, 0, 0, 0],\n",
       "       [0, 0, 0, 0, 0, 0, 0, 0, 0, 0],\n",
       "       [0, 0, 0, 0, 0, 0, 0, 0, 0, 0]])"
      ]
     },
     "execution_count": 5,
     "metadata": {},
     "output_type": "execute_result"
    }
   ],
   "source": [
    "np.zeros((10,10),dtype = 'int')#3"
   ]
  },
  {
   "cell_type": "code",
   "execution_count": 6,
   "id": "6eae5898",
   "metadata": {},
   "outputs": [
    {
     "data": {
      "text/plain": [
       "array([[1., 1., 1., 1., 1., 1., 1., 1., 1., 1.],\n",
       "       [1., 1., 1., 1., 1., 1., 1., 1., 1., 1.],\n",
       "       [1., 1., 1., 1., 1., 1., 1., 1., 1., 1.],\n",
       "       [1., 1., 1., 1., 1., 1., 1., 1., 1., 1.],\n",
       "       [1., 1., 1., 1., 1., 1., 1., 1., 1., 1.],\n",
       "       [1., 1., 1., 1., 1., 1., 1., 1., 1., 1.],\n",
       "       [1., 1., 1., 1., 1., 1., 1., 1., 1., 1.],\n",
       "       [1., 1., 1., 1., 1., 1., 1., 1., 1., 1.],\n",
       "       [1., 1., 1., 1., 1., 1., 1., 1., 1., 1.],\n",
       "       [1., 1., 1., 1., 1., 1., 1., 1., 1., 1.]])"
      ]
     },
     "execution_count": 6,
     "metadata": {},
     "output_type": "execute_result"
    }
   ],
   "source": [
    "np.ones((10,10),dtype = 'float')#4"
   ]
  },
  {
   "cell_type": "code",
   "execution_count": 9,
   "id": "68bd80fb",
   "metadata": {},
   "outputs": [
    {
     "data": {
      "text/plain": [
       "array([[9, 9, 9, 9, 9, 9, 9, 9, 9, 9],\n",
       "       [9, 9, 9, 9, 9, 9, 9, 9, 9, 9],\n",
       "       [9, 9, 9, 9, 9, 9, 9, 9, 9, 9],\n",
       "       [9, 9, 9, 9, 9, 9, 9, 9, 9, 9],\n",
       "       [9, 9, 9, 9, 9, 9, 9, 9, 9, 9],\n",
       "       [9, 9, 9, 9, 9, 9, 9, 9, 9, 9],\n",
       "       [9, 9, 9, 9, 9, 9, 9, 9, 9, 9],\n",
       "       [9, 9, 9, 9, 9, 9, 9, 9, 9, 9],\n",
       "       [9, 9, 9, 9, 9, 9, 9, 9, 9, 9],\n",
       "       [9, 9, 9, 9, 9, 9, 9, 9, 9, 9]])"
      ]
     },
     "execution_count": 9,
     "metadata": {},
     "output_type": "execute_result"
    }
   ],
   "source": [
    "np.full((10,10),9,dtype= 'int')#5"
   ]
  },
  {
   "cell_type": "code",
   "execution_count": 10,
   "id": "b3c3a6e0",
   "metadata": {},
   "outputs": [
    {
     "data": {
      "text/plain": [
       "array([ 5,  8, 11, 14, 17, 20, 23])"
      ]
     },
     "execution_count": 10,
     "metadata": {},
     "output_type": "execute_result"
    }
   ],
   "source": [
    "np.arange(5,25,3)#6"
   ]
  },
  {
   "cell_type": "code",
   "execution_count": 11,
   "id": "91aac5b4",
   "metadata": {},
   "outputs": [
    {
     "data": {
      "text/plain": [
       "array([-1.        , -0.93103448, -0.86206897, -0.79310345, -0.72413793,\n",
       "       -0.65517241, -0.5862069 , -0.51724138, -0.44827586, -0.37931034,\n",
       "       -0.31034483, -0.24137931, -0.17241379, -0.10344828, -0.03448276,\n",
       "        0.03448276,  0.10344828,  0.17241379,  0.24137931,  0.31034483,\n",
       "        0.37931034,  0.44827586,  0.51724138,  0.5862069 ,  0.65517241,\n",
       "        0.72413793,  0.79310345,  0.86206897,  0.93103448,  1.        ])"
      ]
     },
     "execution_count": 11,
     "metadata": {},
     "output_type": "execute_result"
    }
   ],
   "source": [
    "np.linspace(-1,1,30)#7"
   ]
  },
  {
   "cell_type": "code",
   "execution_count": 12,
   "id": "be79468e",
   "metadata": {},
   "outputs": [
    {
     "data": {
      "text/plain": [
       "array([[14,  1, 13, 14, 10, 24],\n",
       "       [14, 27, 21, 19,  8, 23],\n",
       "       [17, 26,  6,  0, 17, 12],\n",
       "       [16,  3, 14, 24, 25, 18],\n",
       "       [ 5,  4, 13,  5, 15, 11]])"
      ]
     },
     "execution_count": 12,
     "metadata": {},
     "output_type": "execute_result"
    }
   ],
   "source": [
    " np.random.randint(0,30,(5,6))#8"
   ]
  },
  {
   "cell_type": "code",
   "execution_count": 16,
   "id": "4e746918",
   "metadata": {},
   "outputs": [
    {
     "data": {
      "text/plain": [
       "array([[1., 0., 0., 0., 0., 0., 0., 0., 0., 0.],\n",
       "       [0., 1., 0., 0., 0., 0., 0., 0., 0., 0.],\n",
       "       [0., 0., 1., 0., 0., 0., 0., 0., 0., 0.],\n",
       "       [0., 0., 0., 1., 0., 0., 0., 0., 0., 0.],\n",
       "       [0., 0., 0., 0., 1., 0., 0., 0., 0., 0.],\n",
       "       [0., 0., 0., 0., 0., 1., 0., 0., 0., 0.],\n",
       "       [0., 0., 0., 0., 0., 0., 1., 0., 0., 0.],\n",
       "       [0., 0., 0., 0., 0., 0., 0., 1., 0., 0.],\n",
       "       [0., 0., 0., 0., 0., 0., 0., 0., 1., 0.],\n",
       "       [0., 0., 0., 0., 0., 0., 0., 0., 0., 1.]])"
      ]
     },
     "execution_count": 16,
     "metadata": {},
     "output_type": "execute_result"
    }
   ],
   "source": [
    "np.eye(10)#9"
   ]
  },
  {
   "cell_type": "code",
   "execution_count": 18,
   "id": "428c6a28",
   "metadata": {},
   "outputs": [
    {
     "data": {
      "text/plain": [
       "array([[8, 9, 4, 7, 8, 5, 7, 8, 2, 5],\n",
       "       [3, 2, 4, 5, 4, 3, 3, 9, 4, 5],\n",
       "       [6, 0, 0, 2, 2, 9, 8, 5, 2, 9],\n",
       "       [9, 3, 4, 4, 8, 0, 8, 6, 1, 1],\n",
       "       [3, 4, 6, 8, 6, 3, 7, 8, 9, 5]])"
      ]
     },
     "execution_count": 18,
     "metadata": {},
     "output_type": "execute_result"
    }
   ],
   "source": [
    "a =np.random.randint(0,10,(5,10))#10\n",
    "a"
   ]
  },
  {
   "cell_type": "code",
   "execution_count": 23,
   "id": "708cd227",
   "metadata": {},
   "outputs": [
    {
     "data": {
      "text/plain": [
       "2"
      ]
     },
     "execution_count": 23,
     "metadata": {},
     "output_type": "execute_result"
    }
   ],
   "source": [
    "a.ndim\n",
    "\n",
    "\n"
   ]
  },
  {
   "cell_type": "code",
   "execution_count": 20,
   "id": "ddcb3912",
   "metadata": {},
   "outputs": [
    {
     "data": {
      "text/plain": [
       "(5, 10)"
      ]
     },
     "execution_count": 20,
     "metadata": {},
     "output_type": "execute_result"
    }
   ],
   "source": [
    "a.shape"
   ]
  },
  {
   "cell_type": "code",
   "execution_count": 21,
   "id": "1ab790d8",
   "metadata": {},
   "outputs": [
    {
     "data": {
      "text/plain": [
       "50"
      ]
     },
     "execution_count": 21,
     "metadata": {},
     "output_type": "execute_result"
    }
   ],
   "source": [
    "a.size"
   ]
  },
  {
   "cell_type": "code",
   "execution_count": 22,
   "id": "6ce1d5d4",
   "metadata": {},
   "outputs": [
    {
     "data": {
      "text/plain": [
       "dtype('int32')"
      ]
     },
     "execution_count": 22,
     "metadata": {},
     "output_type": "execute_result"
    }
   ],
   "source": [
    "a.dtype\n"
   ]
  },
  {
   "cell_type": "code",
   "execution_count": 25,
   "id": "25921424",
   "metadata": {},
   "outputs": [
    {
     "data": {
      "text/plain": [
       "array([[[5, 8, 6, 8, 0, 9, 2],\n",
       "        [8, 5, 4, 3, 4, 9, 2],\n",
       "        [2, 3, 2, 6, 6, 7, 8],\n",
       "        [1, 9, 7, 8, 3, 4, 9]],\n",
       "\n",
       "       [[3, 4, 1, 2, 1, 1, 7],\n",
       "        [8, 2, 7, 4, 7, 0, 5],\n",
       "        [5, 2, 4, 3, 7, 4, 0],\n",
       "        [5, 2, 6, 0, 8, 1, 7]],\n",
       "\n",
       "       [[9, 9, 2, 4, 9, 2, 9],\n",
       "        [3, 1, 2, 8, 7, 6, 8],\n",
       "        [0, 2, 3, 3, 3, 6, 0],\n",
       "        [8, 5, 5, 5, 5, 4, 6]]])"
      ]
     },
     "execution_count": 25,
     "metadata": {},
     "output_type": "execute_result"
    }
   ],
   "source": [
    "a = np.random.randint(10, size = (3,4,7))#11\n",
    "a"
   ]
  },
  {
   "cell_type": "code",
   "execution_count": 26,
   "id": "22aa5078",
   "metadata": {},
   "outputs": [
    {
     "data": {
      "text/plain": [
       "array([1, 2, 3, 4, 5, 6, 7, 8, 9])"
      ]
     },
     "execution_count": 26,
     "metadata": {},
     "output_type": "execute_result"
    }
   ],
   "source": [
    "a=np.arange(1,10)#12\n",
    "a\n"
   ]
  },
  {
   "cell_type": "code",
   "execution_count": 28,
   "id": "9c65b50b",
   "metadata": {},
   "outputs": [
    {
     "data": {
      "text/plain": [
       "array([[1, 2, 3],\n",
       "       [4, 5, 6],\n",
       "       [7, 8, 9]])"
      ]
     },
     "execution_count": 28,
     "metadata": {},
     "output_type": "execute_result"
    }
   ],
   "source": [
    "a.reshape(3,3)#12"
   ]
  },
  {
   "cell_type": "code",
   "execution_count": 29,
   "id": "dbbefba6",
   "metadata": {},
   "outputs": [],
   "source": [
    "x = np.array([1, 2, 3])#13\n",
    "y = np.array([4, 5, 6])\n",
    "z = np.array([7, 9, 11])\n",
    "a = np.array([12,15,17])"
   ]
  },
  {
   "cell_type": "code",
   "execution_count": 30,
   "id": "27bae30d",
   "metadata": {},
   "outputs": [
    {
     "data": {
      "text/plain": [
       "array([ 1,  2,  3,  4,  5,  6,  7,  9, 11, 12, 15, 17])"
      ]
     },
     "execution_count": 30,
     "metadata": {},
     "output_type": "execute_result"
    }
   ],
   "source": [
    "np.concatenate([x,y,z,a])"
   ]
  },
  {
   "cell_type": "code",
   "execution_count": 35,
   "id": "05e2b3a3",
   "metadata": {},
   "outputs": [],
   "source": [
    "a = np.array([[1, 2, 3], #14\n",
    "              [4, 5, 6]])\n",
    "y = np.random.randint(0,13,(2,2))"
   ]
  },
  {
   "cell_type": "code",
   "execution_count": 36,
   "id": "5eddf542",
   "metadata": {},
   "outputs": [
    {
     "data": {
      "text/plain": [
       "array([[1, 2, 3, 7, 0],\n",
       "       [4, 5, 6, 2, 1]])"
      ]
     },
     "execution_count": 36,
     "metadata": {},
     "output_type": "execute_result"
    }
   ],
   "source": [
    "np.concatenate([a,y],axis=1)"
   ]
  },
  {
   "cell_type": "code",
   "execution_count": 37,
   "id": "f30e7cd1",
   "metadata": {},
   "outputs": [],
   "source": [
    "# axis = 1 sutun bazli  axis = 0 satir bazli birlestirme yapar##15"
   ]
  },
  {
   "cell_type": "code",
   "execution_count": 9,
   "id": "30fc0c7a",
   "metadata": {},
   "outputs": [
    {
     "data": {
      "text/plain": [
       "array([1, 2, 3, 1, 2, 3, 7, 0])"
      ]
     },
     "execution_count": 9,
     "metadata": {},
     "output_type": "execute_result"
    }
   ],
   "source": [
    "x = np.array([1, 2, 3])\n",
    "y = np.array([1, 2, 3, 7, 0])\n",
    "np.concatenate([x,y],axis = 0)"
   ]
  },
  {
   "cell_type": "code",
   "execution_count": 18,
   "id": "6a4ffc7e",
   "metadata": {},
   "outputs": [],
   "source": [
    "a = np.array([1, 2, 3])\n",
    "\n",
    "b = np.array([[9, 8, 7], \n",
    "              [6, 5, 4]])\n"
   ]
  },
  {
   "cell_type": "code",
   "execution_count": 19,
   "id": "55b76e54",
   "metadata": {},
   "outputs": [
    {
     "data": {
      "text/plain": [
       "array([[1, 2, 3],\n",
       "       [9, 8, 7],\n",
       "       [6, 5, 4]])"
      ]
     },
     "execution_count": 19,
     "metadata": {},
     "output_type": "execute_result"
    }
   ],
   "source": [
    "np.vstack([a,b])  #16"
   ]
  },
  {
   "cell_type": "code",
   "execution_count": 21,
   "id": "f118de8f",
   "metadata": {},
   "outputs": [],
   "source": [
    "a = np.array([[99],\n",
    "              [99]])\n",
    "\n",
    "b = np.array([[9, 8, 7], \n",
    "              [6, 5, 4]])"
   ]
  },
  {
   "cell_type": "code",
   "execution_count": 22,
   "id": "3addaae2",
   "metadata": {},
   "outputs": [
    {
     "data": {
      "text/plain": [
       "array([[99,  9,  8,  7],\n",
       "       [99,  6,  5,  4]])"
      ]
     },
     "execution_count": 22,
     "metadata": {},
     "output_type": "execute_result"
    }
   ],
   "source": [
    "np.hstack([a,b])"
   ]
  },
  {
   "cell_type": "code",
   "execution_count": 24,
   "id": "21d49605",
   "metadata": {},
   "outputs": [
    {
     "data": {
      "text/plain": [
       "array([0, 1, 2, 3, 4, 5, 6, 7, 8, 9])"
      ]
     },
     "execution_count": 24,
     "metadata": {},
     "output_type": "execute_result"
    }
   ],
   "source": [
    "a = np.arange(10)#17\n",
    "a"
   ]
  },
  {
   "cell_type": "code",
   "execution_count": 25,
   "id": "7da01ad2",
   "metadata": {},
   "outputs": [
    {
     "data": {
      "text/plain": [
       "[array([0, 1, 2]), array([3, 4, 5]), array([6, 7, 8]), array([9])]"
      ]
     },
     "execution_count": 25,
     "metadata": {},
     "output_type": "execute_result"
    }
   ],
   "source": [
    "np.split(a, [3,6,9]) "
   ]
  },
  {
   "cell_type": "code",
   "execution_count": 31,
   "id": "5c20f2c5",
   "metadata": {},
   "outputs": [
    {
     "data": {
      "text/plain": [
       "array([0, 4, 5, 7, 9, 8, 8, 6, 0, 1])"
      ]
     },
     "execution_count": 31,
     "metadata": {},
     "output_type": "execute_result"
    }
   ],
   "source": [
    "a = np.random.randint(10, size = 10) #18\n",
    "a"
   ]
  },
  {
   "cell_type": "code",
   "execution_count": 32,
   "id": "f1cd7b00",
   "metadata": {},
   "outputs": [
    {
     "data": {
      "text/plain": [
       "array([0, 0, 1, 4, 5, 6, 7, 8, 8, 9])"
      ]
     },
     "execution_count": 32,
     "metadata": {},
     "output_type": "execute_result"
    }
   ],
   "source": [
    "np.sort(a)  "
   ]
  },
  {
   "cell_type": "code",
   "execution_count": 33,
   "id": "d9e7b381",
   "metadata": {},
   "outputs": [
    {
     "data": {
      "text/plain": [
       "0"
      ]
     },
     "execution_count": 33,
     "metadata": {},
     "output_type": "execute_result"
    }
   ],
   "source": [
    "a[0]"
   ]
  },
  {
   "cell_type": "code",
   "execution_count": 35,
   "id": "33693677",
   "metadata": {},
   "outputs": [
    {
     "data": {
      "text/plain": [
       "array([8, 2, 1, 7, 8, 6, 1, 9, 9, 1, 8, 5, 1, 6, 6, 6, 0, 0, 2, 5])"
      ]
     },
     "execution_count": 35,
     "metadata": {},
     "output_type": "execute_result"
    }
   ],
   "source": [
    "a = np.random.randint(10, size = 20)#19\n",
    "a"
   ]
  },
  {
   "cell_type": "code",
   "execution_count": 36,
   "id": "8b1cfc78",
   "metadata": {},
   "outputs": [
    {
     "data": {
      "text/plain": [
       "(1, 8, 1)"
      ]
     },
     "execution_count": 36,
     "metadata": {},
     "output_type": "execute_result"
    }
   ],
   "source": [
    "a[2],a[4],a[6]"
   ]
  },
  {
   "cell_type": "code",
   "execution_count": 37,
   "id": "65613f84",
   "metadata": {},
   "outputs": [
    {
     "data": {
      "text/plain": [
       "array([3, 3, 9, 1, 2, 6, 8, 4, 2, 9])"
      ]
     },
     "execution_count": 37,
     "metadata": {},
     "output_type": "execute_result"
    }
   ],
   "source": [
    "a = np.random.randint(10, size = 10)#20\n",
    "a"
   ]
  },
  {
   "cell_type": "code",
   "execution_count": 38,
   "id": "eb9f7953",
   "metadata": {},
   "outputs": [
    {
     "data": {
      "text/plain": [
       "array([3, 3, 9, 8, 2, 6, 8, 4, 2, 9])"
      ]
     },
     "execution_count": 38,
     "metadata": {},
     "output_type": "execute_result"
    }
   ],
   "source": [
    "a[3] = 8\n",
    "a"
   ]
  },
  {
   "cell_type": "code",
   "execution_count": 39,
   "id": "f879c8be",
   "metadata": {},
   "outputs": [],
   "source": [
    "#Bir kare matriste asal köşegen üzerindeki elemanların dışında kalan tüm elemanlar sıfır ise bu matrise diagonal matris denir.\n",
    "#bir kare matriste ilk kosegenlerin toplami trace of a matrixdir.#21"
   ]
  },
  {
   "cell_type": "code",
   "execution_count": 41,
   "id": "3136b4a9",
   "metadata": {},
   "outputs": [
    {
     "data": {
      "text/plain": [
       "array([[3, 0, 5, 0, 3],\n",
       "       [1, 0, 9, 9, 5],\n",
       "       [2, 9, 1, 2, 0],\n",
       "       [0, 9, 1, 8, 8],\n",
       "       [7, 6, 8, 6, 4]])"
      ]
     },
     "execution_count": 41,
     "metadata": {},
     "output_type": "execute_result"
    }
   ],
   "source": [
    "a = np.random.randint(10, size = (5,5))#22\n",
    "a"
   ]
  },
  {
   "cell_type": "code",
   "execution_count": 45,
   "id": "106bcfbb",
   "metadata": {},
   "outputs": [
    {
     "data": {
      "text/plain": [
       "(3, 0, 1, 8, 4)"
      ]
     },
     "execution_count": 45,
     "metadata": {},
     "output_type": "execute_result"
    }
   ],
   "source": [
    "a[0,0],a[1,1],a[2,2],a[3,3],a[4,4]"
   ]
  },
  {
   "cell_type": "code",
   "execution_count": 48,
   "id": "895aa60e",
   "metadata": {},
   "outputs": [
    {
     "data": {
      "text/plain": [
       "array([10, 11, 12, 13, 14, 15, 16, 17, 18, 19])"
      ]
     },
     "execution_count": 48,
     "metadata": {},
     "output_type": "execute_result"
    }
   ],
   "source": [
    "a = np.arange(10,20)#23\n",
    "a\n"
   ]
  },
  {
   "cell_type": "code",
   "execution_count": 49,
   "id": "7606967e",
   "metadata": {},
   "outputs": [
    {
     "data": {
      "text/plain": [
       "array([13, 14, 15, 16, 17, 18, 19])"
      ]
     },
     "execution_count": 49,
     "metadata": {},
     "output_type": "execute_result"
    }
   ],
   "source": [
    "a[3:]"
   ]
  },
  {
   "cell_type": "code",
   "execution_count": 50,
   "id": "3864a393",
   "metadata": {
    "scrolled": true
   },
   "outputs": [
    {
     "data": {
      "text/plain": [
       "array([[38, 48, 29, 40, 42, 24, 14, 49, 28, 23],\n",
       "       [23, 37, 25, 30, 32, 26, 20, 21, 39, 29],\n",
       "       [13, 29,  6, 15, 42, 38, 38,  4, 13, 17],\n",
       "       [11, 47, 17, 30, 19, 18, 22, 26, 49, 46],\n",
       "       [28, 48, 35,  7, 44, 43, 33, 26, 49, 37],\n",
       "       [17, 48, 43, 40, 23, 12, 49, 18,  0,  4],\n",
       "       [38,  2, 12, 17, 38, 10, 42, 11, 44,  8],\n",
       "       [39,  6, 47,  3, 48, 49, 33,  5,  9, 27],\n",
       "       [32, 39,  4, 29,  6, 32,  1,  2, 22, 14],\n",
       "       [ 7, 45, 11,  5,  1, 49, 36, 44, 46, 40]])"
      ]
     },
     "execution_count": 50,
     "metadata": {},
     "output_type": "execute_result"
    }
   ],
   "source": [
    "a = np.random.randint(50, size = (10,10))#24\n",
    "a"
   ]
  },
  {
   "cell_type": "code",
   "execution_count": 72,
   "id": "e0717233",
   "metadata": {},
   "outputs": [
    {
     "data": {
      "text/plain": [
       "(19,\n",
       " array([28, 48, 35,  7, 44, 43, 33, 26, 49, 37]),\n",
       " array([48, 37, 29, 47, 48, 48,  2,  6, 39, 45]),\n",
       " array([[  48,   29,   40,   42,   24],\n",
       "        [  37,   25,   30,   32,   26],\n",
       "        [  29,    6,   15,   42,   38],\n",
       "        [  47,   17,   30,   19,   18],\n",
       "        [  48,   35,    7,   44,   43],\n",
       "        [  48,   43,   40,   23, 1994],\n",
       "        [   2,   12,   17,   38,   10],\n",
       "        [   6,   47,    3,   48,   49],\n",
       "        [  39,    4,   29,    6,   32],\n",
       "        [  45,   11,    5,    1,   49]]),\n",
       " array([[15, 42, 38, 38],\n",
       "        [30, 19, 18, 22],\n",
       "        [ 7, 44, 43, 33]]),\n",
       " array([[17, 48, 43, 40],\n",
       "        [38,  2, 12, 17],\n",
       "        [39,  6, 47,  3],\n",
       "        [32, 39,  4, 29],\n",
       "        [ 7, 45, 11,  5]]),\n",
       " array([[40, 14, 23],\n",
       "        [30, 20, 29],\n",
       "        [15, 38, 17],\n",
       "        [30, 22, 46],\n",
       "        [ 7, 33, 37],\n",
       "        [40, 49,  4],\n",
       "        [17, 42,  8],\n",
       "        [ 3, 33, 27],\n",
       "        [29,  1, 14],\n",
       "        [ 5, 36, 40]]))"
      ]
     },
     "execution_count": 72,
     "metadata": {},
     "output_type": "execute_result"
    }
   ],
   "source": [
    "a[3,4],  a[4],   a[:,1],   a[:,1:6],   a[2:5,3:7],   a[5:,:4], a[:,[3,6,9]] #a[:,-1:-9:-3]"
   ]
  },
  {
   "cell_type": "code",
   "execution_count": 68,
   "id": "3aa97d2c",
   "metadata": {},
   "outputs": [
    {
     "data": {
      "text/plain": [
       "array([[  38,   48,   29,   40,   42,   24,   14,   49,   28,   23],\n",
       "       [  23,   37,   25,   30,   32,   26,   20,   21,   39,   29],\n",
       "       [  13,   29,    6,   15,   42,   38,   38,    4,   13,   17],\n",
       "       [  11,   47,   17,   30,   19,   18,   22,   26,   49,   46],\n",
       "       [  28,   48,   35,    7,   44,   43,   33,   26,   49,   37],\n",
       "       [  17,   48,   43,   40,   23, 1994,   49,   18,    0,    4],\n",
       "       [  38,    2,   12,   17,   38,   10,   42,   11,   44,    8],\n",
       "       [  39,    6,   47,    3,   48,   49,   33,    5,    9,   27],\n",
       "       [  32,   39,    4,   29,    6,   32,    1,    2,   22,   14],\n",
       "       [   7,   45,   11,    5,    1,   49,   36,   44,   46,   40]])"
      ]
     },
     "execution_count": 68,
     "metadata": {},
     "output_type": "execute_result"
    }
   ],
   "source": [
    "a[5,5]=1994\n",
    "a\n"
   ]
  },
  {
   "cell_type": "code",
   "execution_count": 70,
   "id": "3cf1111b",
   "metadata": {},
   "outputs": [
    {
     "data": {
      "text/plain": [
       "array([ 0,  5, 10, 15, 20, 25, 30, 35, 40, 45])"
      ]
     },
     "execution_count": 70,
     "metadata": {},
     "output_type": "execute_result"
    }
   ],
   "source": [
    "b = np.arange(0,50,5)#25\n",
    "b"
   ]
  },
  {
   "cell_type": "code",
   "execution_count": 78,
   "id": "c63ed124",
   "metadata": {},
   "outputs": [
    {
     "data": {
      "text/plain": [
       "5"
      ]
     },
     "execution_count": 78,
     "metadata": {},
     "output_type": "execute_result"
    }
   ],
   "source": [
    "np.sum(b > 20) "
   ]
  },
  {
   "cell_type": "code",
   "execution_count": 79,
   "id": "38216bc7",
   "metadata": {},
   "outputs": [
    {
     "data": {
      "text/plain": [
       "3"
      ]
     },
     "execution_count": 79,
     "metadata": {},
     "output_type": "execute_result"
    }
   ],
   "source": [
    "np.sum(b > 30) "
   ]
  },
  {
   "cell_type": "markdown",
   "id": "e172f5d1",
   "metadata": {},
   "source": [
    "b==33"
   ]
  },
  {
   "cell_type": "code",
   "execution_count": 80,
   "id": "019ef065",
   "metadata": {},
   "outputs": [
    {
     "data": {
      "text/plain": [
       "0"
      ]
     },
     "execution_count": 80,
     "metadata": {},
     "output_type": "execute_result"
    }
   ],
   "source": [
    "np.sum(b==33) "
   ]
  },
  {
   "cell_type": "code",
   "execution_count": 77,
   "id": "892c9dda",
   "metadata": {},
   "outputs": [
    {
     "data": {
      "text/plain": [
       "array([ 0, 10, 20, 30, 40, 50, 60, 70, 80, 90])"
      ]
     },
     "execution_count": 77,
     "metadata": {},
     "output_type": "execute_result"
    }
   ],
   "source": [
    "(2 * b)"
   ]
  },
  {
   "cell_type": "code",
   "execution_count": 81,
   "id": "fb1aa757",
   "metadata": {},
   "outputs": [
    {
     "data": {
      "text/plain": [
       "array([0, 1, 0, 1, 0, 1, 0, 1, 0, 1], dtype=int32)"
      ]
     },
     "execution_count": 81,
     "metadata": {},
     "output_type": "execute_result"
    }
   ],
   "source": [
    "b%2"
   ]
  },
  {
   "cell_type": "code",
   "execution_count": 86,
   "id": "bd3ce542",
   "metadata": {},
   "outputs": [
    {
     "data": {
      "text/plain": [
       "array([ 0.38558656, -1.09344483, -0.75672566,  0.80883721, -1.84416694,\n",
       "        1.91052919, -1.29767976,  0.52225535, -0.09411771,  0.86943912,\n",
       "       -0.4285428 , -0.22888421,  0.99345517,  0.78805059, -0.18687062,\n",
       "        1.10491104,  1.02966122,  0.97916518, -0.27752075, -1.80702533,\n",
       "       -0.10022159, -0.51552734, -0.99254654,  1.42000693, -0.49261999,\n",
       "       -2.44696745, -1.61261107,  0.76286396,  0.45732944, -1.19145782,\n",
       "       -0.33962827, -0.51729676,  0.11383915,  0.5324043 , -0.85994909,\n",
       "        0.69581445,  0.34887221,  0.56281952, -0.88067212, -1.50337591,\n",
       "       -0.24619257, -0.74827542, -0.55369555,  0.48195798, -0.8078467 ,\n",
       "        0.52669663,  1.35085442,  0.36208008,  1.58399188,  0.27388093])"
      ]
     },
     "execution_count": 86,
     "metadata": {},
     "output_type": "execute_result"
    }
   ],
   "source": [
    "a =np.random.normal(0,1,size = 50)#26\n",
    "a"
   ]
  },
  {
   "cell_type": "code",
   "execution_count": 87,
   "id": "ccf73705",
   "metadata": {},
   "outputs": [
    {
     "data": {
      "text/plain": [
       "-0.0591712061495891"
      ]
     },
     "execution_count": 87,
     "metadata": {},
     "output_type": "execute_result"
    }
   ],
   "source": [
    "np.mean(a) "
   ]
  },
  {
   "cell_type": "code",
   "execution_count": 88,
   "id": "762d60bd",
   "metadata": {},
   "outputs": [
    {
     "data": {
      "text/plain": [
       "0.9690743162627258"
      ]
     },
     "execution_count": 88,
     "metadata": {},
     "output_type": "execute_result"
    }
   ],
   "source": [
    "np.std(a) "
   ]
  },
  {
   "cell_type": "code",
   "execution_count": 89,
   "id": "a1c624ed",
   "metadata": {},
   "outputs": [
    {
     "data": {
      "text/plain": [
       "0.9391050304400695"
      ]
     },
     "execution_count": 89,
     "metadata": {},
     "output_type": "execute_result"
    }
   ],
   "source": [
    "np.var(a)"
   ]
  },
  {
   "cell_type": "code",
   "execution_count": 90,
   "id": "550eeb55",
   "metadata": {},
   "outputs": [
    {
     "data": {
      "text/plain": [
       "-0.09716965098875119"
      ]
     },
     "execution_count": 90,
     "metadata": {},
     "output_type": "execute_result"
    }
   ],
   "source": [
    "np.median(a)"
   ]
  },
  {
   "cell_type": "code",
   "execution_count": 91,
   "id": "d89ba58b",
   "metadata": {},
   "outputs": [
    {
     "data": {
      "text/plain": [
       "-2.4469674481829853"
      ]
     },
     "execution_count": 91,
     "metadata": {},
     "output_type": "execute_result"
    }
   ],
   "source": [
    "np.min(a)"
   ]
  },
  {
   "cell_type": "code",
   "execution_count": 92,
   "id": "56233f84",
   "metadata": {},
   "outputs": [
    {
     "data": {
      "text/plain": [
       "1.9105291853171178"
      ]
     },
     "execution_count": 92,
     "metadata": {},
     "output_type": "execute_result"
    }
   ],
   "source": [
    "np.max(a)"
   ]
  },
  {
   "cell_type": "code",
   "execution_count": 93,
   "id": "89face15",
   "metadata": {},
   "outputs": [],
   "source": [
    "#27#Pandalar daha fazla bellek tüketir. Numpy bellek açısından verimlidir.\n",
    "#Panda serisinin indekslenmesi, numpy dizilerine kıyasla çok yavaştır. Numpy Dizilerinin indekslenmesi çok hızlıdır."
   ]
  },
  {
   "cell_type": "code",
   "execution_count": 5,
   "id": "d16176da",
   "metadata": {},
   "outputs": [],
   "source": [
    "import pandas as pd"
   ]
  },
  {
   "cell_type": "code",
   "execution_count": 106,
   "id": "7b59d853",
   "metadata": {},
   "outputs": [
    {
     "data": {
      "text/plain": [
       "A     Ahmet\n",
       "B    Mehmet\n",
       "C         3\n",
       "D       4.6\n",
       "E      None\n",
       "F          \n",
       "dtype: object"
      ]
     },
     "execution_count": 106,
     "metadata": {},
     "output_type": "execute_result"
    }
   ],
   "source": [
    "seri = pd.Series([\"Ahmet\",\"Mehmet\",3, 4.6, None, \" \"],index = ('A','B','C','D','E','F'))#28\n",
    "seri"
   ]
  },
  {
   "cell_type": "code",
   "execution_count": 107,
   "id": "73d70e0d",
   "metadata": {},
   "outputs": [],
   "source": [
    "sozluk = { 'fransa' : 'paris', 'turkiye' :'istanbul', 'amerika' : 'washington d.c.','iran':'tahran','irak':'bagdat'}#29"
   ]
  },
  {
   "cell_type": "code",
   "execution_count": 109,
   "id": "6b61f4b6",
   "metadata": {},
   "outputs": [
    {
     "data": {
      "text/plain": [
       "fransa               paris\n",
       "turkiye           istanbul\n",
       "amerika    washington d.c.\n",
       "iran                tahran\n",
       "irak                bagdat\n",
       "dtype: object"
      ]
     },
     "execution_count": 109,
     "metadata": {},
     "output_type": "execute_result"
    }
   ],
   "source": [
    "ulke = pd.Series(sozluk)\n",
    "ulke"
   ]
  },
  {
   "cell_type": "code",
   "execution_count": 110,
   "id": "3401822f",
   "metadata": {},
   "outputs": [
    {
     "data": {
      "text/plain": [
       "array([4, 8, 4, 2, 9, 1, 6, 9, 7, 9])"
      ]
     },
     "execution_count": 110,
     "metadata": {},
     "output_type": "execute_result"
    }
   ],
   "source": [
    "a = np.random.randint(10,size =10)\n",
    "a"
   ]
  },
  {
   "cell_type": "code",
   "execution_count": 117,
   "id": "79f5bf89",
   "metadata": {},
   "outputs": [
    {
     "data": {
      "text/plain": [
       "a    4\n",
       "b    8\n",
       "c    4\n",
       "d    2\n",
       "e    9\n",
       "f    1\n",
       "g    6\n",
       "h    9\n",
       "i    7\n",
       "j    9\n",
       "dtype: int32"
      ]
     },
     "execution_count": 117,
     "metadata": {},
     "output_type": "execute_result"
    }
   ],
   "source": [
    "seri3 = pd.Series((a),index = ('a','b','c','d','e','f','g','h','i','j'))#30\n",
    "seri3"
   ]
  },
  {
   "cell_type": "code",
   "execution_count": 119,
   "id": "64affe05",
   "metadata": {},
   "outputs": [
    {
     "data": {
      "text/plain": [
       "4"
      ]
     },
     "execution_count": 119,
     "metadata": {},
     "output_type": "execute_result"
    }
   ],
   "source": [
    "seri3['c']"
   ]
  },
  {
   "cell_type": "code",
   "execution_count": 120,
   "id": "c9cac72a",
   "metadata": {},
   "outputs": [
    {
     "data": {
      "text/plain": [
       "8"
      ]
     },
     "execution_count": 120,
     "metadata": {},
     "output_type": "execute_result"
    }
   ],
   "source": [
    "seri3[1]"
   ]
  },
  {
   "cell_type": "code",
   "execution_count": 121,
   "id": "22a7bb0b",
   "metadata": {},
   "outputs": [
    {
     "data": {
      "text/plain": [
       "b    8\n",
       "g    6\n",
       "dtype: int32"
      ]
     },
     "execution_count": 121,
     "metadata": {},
     "output_type": "execute_result"
    }
   ],
   "source": [
    "seri3[[\"b\",\"g\"]] "
   ]
  },
  {
   "cell_type": "code",
   "execution_count": 125,
   "id": "89117259",
   "metadata": {},
   "outputs": [
    {
     "data": {
      "text/plain": [
       "b    8\n",
       "c    4\n",
       "d    2\n",
       "e    9\n",
       "f    1\n",
       "g    6\n",
       "dtype: int32"
      ]
     },
     "execution_count": 125,
     "metadata": {},
     "output_type": "execute_result"
    }
   ],
   "source": [
    "seri3[\"b\":\"g\"] "
   ]
  },
  {
   "cell_type": "code",
   "execution_count": 126,
   "id": "26f81670",
   "metadata": {},
   "outputs": [
    {
     "data": {
      "text/plain": [
       "e    9\n",
       "f    1\n",
       "g    6\n",
       "h    9\n",
       "i    7\n",
       "j    9\n",
       "dtype: int32"
      ]
     },
     "execution_count": 126,
     "metadata": {},
     "output_type": "execute_result"
    }
   ],
   "source": [
    "seri3[4:]"
   ]
  },
  {
   "cell_type": "code",
   "execution_count": 6,
   "id": "2500cd23",
   "metadata": {},
   "outputs": [
    {
     "data": {
      "text/plain": [
       "0    1\n",
       "1    2\n",
       "2    3\n",
       "3    4\n",
       "4    5\n",
       "0    a\n",
       "1    b\n",
       "2    c\n",
       "3    d\n",
       "4    e\n",
       "dtype: object"
      ]
     },
     "execution_count": 6,
     "metadata": {},
     "output_type": "execute_result"
    }
   ],
   "source": [
    "a = pd.Series([1,2,3,4,5]) #31\n",
    "b = pd.Series(['a','b','c','d','e'])\n",
    "seri = pd.concat([a,b])\n",
    "seri"
   ]
  },
  {
   "cell_type": "code",
   "execution_count": 7,
   "id": "1b3b79a1",
   "metadata": {},
   "outputs": [
    {
     "data": {
      "text/plain": [
       "1     1\n",
       "2     2\n",
       "3     3\n",
       "4     4\n",
       "5     5\n",
       "6     a\n",
       "7     b\n",
       "8     c\n",
       "9     d\n",
       "10    e\n",
       "dtype: object"
      ]
     },
     "execution_count": 7,
     "metadata": {},
     "output_type": "execute_result"
    }
   ],
   "source": [
    "seri=pd.Series([1,2,3,4,5,'a','b','c','d','e'],index = (1,2,3,4,5,6,7,8,9,10))\n",
    "seri"
   ]
  },
  {
   "cell_type": "code",
   "execution_count": 11,
   "id": "4f7ba89b",
   "metadata": {},
   "outputs": [
    {
     "data": {
      "text/plain": [
       "(5, 'a', 'b')"
      ]
     },
     "execution_count": 11,
     "metadata": {},
     "output_type": "execute_result"
    }
   ],
   "source": [
    "seri.loc[5],seri.loc[6],seri.loc[7]"
   ]
  },
  {
   "cell_type": "code",
   "execution_count": 12,
   "id": "7a5a933d",
   "metadata": {},
   "outputs": [
    {
     "data": {
      "text/plain": [
       "(5, 'a', 'b')"
      ]
     },
     "execution_count": 12,
     "metadata": {},
     "output_type": "execute_result"
    }
   ],
   "source": [
    "seri.iloc[4],seri.iloc[5],seri.iloc[6]"
   ]
  },
  {
   "cell_type": "code",
   "execution_count": 3,
   "id": "3881ee9e",
   "metadata": {},
   "outputs": [
    {
     "name": "stdout",
     "output_type": "stream",
     "text": [
      "[ 0.07147746  0.05807539 -0.09542339  0.00301053 -0.0129048  -0.0110864\n",
      "  0.04789441 -0.02194366 -0.09590269 -0.05185034]\n",
      "402.3587725162506\n",
      "28024096\n"
     ]
    }
   ],
   "source": [
    "import time # master\n",
    "start_time = time.time()\n",
    "count = 0\n",
    "while True:\n",
    "    count += 1\n",
    "    first = np.random.rand(10,10)\n",
    "    second = np.random.rand(10,10)\n",
    "    fark = first - second\n",
    "    diagonal = np.diag(fark)\n",
    "    if len(list(filter(lambda x : x>-0.1 and x<0.1,diagonal))) == 10:\n",
    "        break\n",
    "print(diagonal)\n",
    "print(time.time() - start_time)\n",
    "print(count)\n",
    "\n",
    "       "
   ]
  },
  {
   "cell_type": "code",
   "execution_count": null,
   "id": "cff8604f",
   "metadata": {},
   "outputs": [],
   "source": []
  }
 ],
 "metadata": {
  "kernelspec": {
   "display_name": "Python 3 (ipykernel)",
   "language": "python",
   "name": "python3"
  },
  "language_info": {
   "codemirror_mode": {
    "name": "ipython",
    "version": 3
   },
   "file_extension": ".py",
   "mimetype": "text/x-python",
   "name": "python",
   "nbconvert_exporter": "python",
   "pygments_lexer": "ipython3",
   "version": "3.9.6"
  }
 },
 "nbformat": 4,
 "nbformat_minor": 5
}
